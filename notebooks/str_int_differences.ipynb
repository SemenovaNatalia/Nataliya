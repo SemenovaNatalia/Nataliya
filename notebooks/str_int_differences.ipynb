{
  "nbformat": 4,
  "nbformat_minor": 0,
  "metadata": {
    "kernelspec": {
      "display_name": "Python 3",
      "language": "python",
      "name": "python3"
    },
    "colab": {
      "name": "str_int_differences.ipynb",
      "provenance": []
    }
  },
  "cells": [
    {
      "cell_type": "code",
      "metadata": {
        "id": "Xd6vl-JqGjh7",
        "colab_type": "code",
        "outputId": "362ce418-9d67-4aa7-85fc-ec450c7b8b10",
        "colab": {}
      },
      "source": [
        "s = '7'\n",
        "s2 = '344.43'\n",
        "s3 = 344.42\n",
        "print(\"s, int('s')\", s, int(s))\n",
        "print(\"s3, int(s3)\", s3, int(s3))\n",
        "print(\"s2, int('s2')\", s2, int(s2))\n"
      ],
      "execution_count": 0,
      "outputs": [
        {
          "output_type": "stream",
          "text": [
            "s, int('s') 7 7\n",
            "s3, int(s3) 344.42 344\n"
          ],
          "name": "stdout"
        },
        {
          "output_type": "error",
          "ename": "ValueError",
          "evalue": "invalid literal for int() with base 10: '344.43'",
          "traceback": [
            "\u001b[0;31m---------------------------------------------------------------------------\u001b[0m",
            "\u001b[0;31mValueError\u001b[0m                                Traceback (most recent call last)",
            "\u001b[0;32m<ipython-input-2-36af3df83a05>\u001b[0m in \u001b[0;36m<module>\u001b[0;34m()\u001b[0m\n\u001b[1;32m      4\u001b[0m \u001b[0mprint\u001b[0m\u001b[0;34m(\u001b[0m\u001b[0;34m\"s, int('s')\"\u001b[0m\u001b[0;34m,\u001b[0m \u001b[0ms\u001b[0m\u001b[0;34m,\u001b[0m \u001b[0mint\u001b[0m\u001b[0;34m(\u001b[0m\u001b[0ms\u001b[0m\u001b[0;34m)\u001b[0m\u001b[0;34m)\u001b[0m\u001b[0;34m\u001b[0m\u001b[0m\n\u001b[1;32m      5\u001b[0m \u001b[0mprint\u001b[0m\u001b[0;34m(\u001b[0m\u001b[0;34m\"s3, int(s3)\"\u001b[0m\u001b[0;34m,\u001b[0m \u001b[0ms3\u001b[0m\u001b[0;34m,\u001b[0m \u001b[0mint\u001b[0m\u001b[0;34m(\u001b[0m\u001b[0ms3\u001b[0m\u001b[0;34m)\u001b[0m\u001b[0;34m)\u001b[0m\u001b[0;34m\u001b[0m\u001b[0m\n\u001b[0;32m----> 6\u001b[0;31m \u001b[0mprint\u001b[0m\u001b[0;34m(\u001b[0m\u001b[0;34m\"s2, int('s2')\"\u001b[0m\u001b[0;34m,\u001b[0m \u001b[0ms2\u001b[0m\u001b[0;34m,\u001b[0m \u001b[0mint\u001b[0m\u001b[0;34m(\u001b[0m\u001b[0ms2\u001b[0m\u001b[0;34m)\u001b[0m\u001b[0;34m)\u001b[0m\u001b[0;34m\u001b[0m\u001b[0m\n\u001b[0m",
            "\u001b[0;31mValueError\u001b[0m: invalid literal for int() with base 10: '344.43'"
          ]
        }
      ]
    },
    {
      "cell_type": "code",
      "metadata": {
        "id": "TT55y56SIptj",
        "colab_type": "code",
        "colab": {}
      },
      "source": [
        "# my new shit"
      ],
      "execution_count": 0,
      "outputs": []
    },
    {
      "cell_type": "code",
      "metadata": {
        "id": "czlSxInGGjiM",
        "colab_type": "code",
        "colab": {}
      },
      "source": [
        "while True:\n",
        "    a = int(input())\n",
        "    if a < 10:\n",
        "        continue\n",
        "        elif a > 100:\n",
        "            break\n",
        "            else:\n",
        "                print(a)"
      ],
      "execution_count": 0,
      "outputs": []
    },
    {
      "cell_type": "code",
      "metadata": {
        "id": "8p0nYY4gGjiX",
        "colab_type": "code",
        "colab": {}
      },
      "source": [
        "a = 0\n",
        "while a >= 10:\n",
        "    print('sfdfg')\n",
        "    a = int(input(a))\n",
        "    continue\n",
        "    if a > 100:\n",
        "        break\n",
        "        "
      ],
      "execution_count": 0,
      "outputs": []
    },
    {
      "cell_type": "code",
      "metadata": {
        "id": "4u-e86OzGjih",
        "colab_type": "code",
        "outputId": "312a1bf7-fe40-481d-88c1-a62dc912ed22",
        "colab": {}
      },
      "source": [
        "a = 0\n",
        "while True:\n",
        "    a = int(input())\n",
        "    if a < 10:\n",
        "        continue\n",
        "    elif a > 100:\n",
        "        break\n",
        "    else:\n",
        "        print(a)"
      ],
      "execution_count": 0,
      "outputs": [
        {
          "output_type": "stream",
          "text": [
            "12\n",
            "12\n",
            "9\n",
            "10\n",
            "10\n",
            "79878\n"
          ],
          "name": "stdout"
        }
      ]
    },
    {
      "cell_type": "code",
      "metadata": {
        "id": "jERT38hwGjiq",
        "colab_type": "code",
        "outputId": "da77b9f9-ce34-42e5-a772-bfef9e82fb16",
        "colab": {}
      },
      "source": [
        "while True:\n",
        "    a = int(input())\n",
        "    if a < 10:\n",
        "        continue\n",
        "    elif a > 100:\n",
        "        break\n",
        "    else:\n",
        "        print(a)\n",
        "                "
      ],
      "execution_count": 0,
      "outputs": [
        {
          "output_type": "stream",
          "text": [
            "6\n",
            "25\n",
            "25\n",
            "54858\n"
          ],
          "name": "stdout"
        }
      ]
    },
    {
      "cell_type": "code",
      "metadata": {
        "id": "dtzwMk16Gjiz",
        "colab_type": "code",
        "outputId": "3a90e8d3-46a5-4c08-87f8-50401a434b2d",
        "colab": {}
      },
      "source": [
        "a = int(input())\n",
        "while a <= 100:\n",
        "    print(a)\n",
        "    if a >= 10"
      ],
      "execution_count": 0,
      "outputs": [
        {
          "output_type": "error",
          "ename": "SyntaxError",
          "evalue": "invalid syntax (<ipython-input-13-c60222d10fa2>, line 4)",
          "traceback": [
            "\u001b[0;36m  File \u001b[0;32m\"<ipython-input-13-c60222d10fa2>\"\u001b[0;36m, line \u001b[0;32m4\u001b[0m\n\u001b[0;31m    if a >= 10\u001b[0m\n\u001b[0m              ^\u001b[0m\n\u001b[0;31mSyntaxError\u001b[0m\u001b[0;31m:\u001b[0m invalid syntax\n"
          ]
        }
      ]
    },
    {
      "cell_type": "code",
      "metadata": {
        "id": "h60V5ZH8Gji8",
        "colab_type": "code",
        "outputId": "ba8f1167-76d3-4786-f3b0-8186657f04dd",
        "colab": {}
      },
      "source": [
        "a = int(input())\n",
        "b = int(input())\n",
        "x = a * b\n",
        "while a != 0 or b != 0:\n",
        "    if a > b:\n",
        "        a = a % b\n",
        "    else:\n",
        "        b = b % a\n",
        "print(x // (a + b))"
      ],
      "execution_count": 0,
      "outputs": [
        {
          "output_type": "error",
          "ename": "KeyboardInterrupt",
          "evalue": "",
          "traceback": [
            "\u001b[0;31m---------------------------------------------------------------------------\u001b[0m",
            "\u001b[0;31mKeyboardInterrupt\u001b[0m                         Traceback (most recent call last)",
            "\u001b[0;32m/home/denis/anaconda3/lib/python3.6/site-packages/ipykernel/kernelbase.py\u001b[0m in \u001b[0;36m_input_request\u001b[0;34m(self, prompt, ident, parent, password)\u001b[0m\n\u001b[1;32m    729\u001b[0m             \u001b[0;32mtry\u001b[0m\u001b[0;34m:\u001b[0m\u001b[0;34m\u001b[0m\u001b[0m\n\u001b[0;32m--> 730\u001b[0;31m                 \u001b[0mident\u001b[0m\u001b[0;34m,\u001b[0m \u001b[0mreply\u001b[0m \u001b[0;34m=\u001b[0m \u001b[0mself\u001b[0m\u001b[0;34m.\u001b[0m\u001b[0msession\u001b[0m\u001b[0;34m.\u001b[0m\u001b[0mrecv\u001b[0m\u001b[0;34m(\u001b[0m\u001b[0mself\u001b[0m\u001b[0;34m.\u001b[0m\u001b[0mstdin_socket\u001b[0m\u001b[0;34m,\u001b[0m \u001b[0;36m0\u001b[0m\u001b[0;34m)\u001b[0m\u001b[0;34m\u001b[0m\u001b[0m\n\u001b[0m\u001b[1;32m    731\u001b[0m             \u001b[0;32mexcept\u001b[0m \u001b[0mException\u001b[0m\u001b[0;34m:\u001b[0m\u001b[0;34m\u001b[0m\u001b[0m\n",
            "\u001b[0;32m/home/denis/anaconda3/lib/python3.6/site-packages/jupyter_client/session.py\u001b[0m in \u001b[0;36mrecv\u001b[0;34m(self, socket, mode, content, copy)\u001b[0m\n\u001b[1;32m    777\u001b[0m         \u001b[0;32mtry\u001b[0m\u001b[0;34m:\u001b[0m\u001b[0;34m\u001b[0m\u001b[0m\n\u001b[0;32m--> 778\u001b[0;31m             \u001b[0mmsg_list\u001b[0m \u001b[0;34m=\u001b[0m \u001b[0msocket\u001b[0m\u001b[0;34m.\u001b[0m\u001b[0mrecv_multipart\u001b[0m\u001b[0;34m(\u001b[0m\u001b[0mmode\u001b[0m\u001b[0;34m,\u001b[0m \u001b[0mcopy\u001b[0m\u001b[0;34m=\u001b[0m\u001b[0mcopy\u001b[0m\u001b[0;34m)\u001b[0m\u001b[0;34m\u001b[0m\u001b[0m\n\u001b[0m\u001b[1;32m    779\u001b[0m         \u001b[0;32mexcept\u001b[0m \u001b[0mzmq\u001b[0m\u001b[0;34m.\u001b[0m\u001b[0mZMQError\u001b[0m \u001b[0;32mas\u001b[0m \u001b[0me\u001b[0m\u001b[0;34m:\u001b[0m\u001b[0;34m\u001b[0m\u001b[0m\n",
            "\u001b[0;32m/home/denis/anaconda3/lib/python3.6/site-packages/zmq/sugar/socket.py\u001b[0m in \u001b[0;36mrecv_multipart\u001b[0;34m(self, flags, copy, track)\u001b[0m\n\u001b[1;32m    394\u001b[0m         \"\"\"\n\u001b[0;32m--> 395\u001b[0;31m         \u001b[0mparts\u001b[0m \u001b[0;34m=\u001b[0m \u001b[0;34m[\u001b[0m\u001b[0mself\u001b[0m\u001b[0;34m.\u001b[0m\u001b[0mrecv\u001b[0m\u001b[0;34m(\u001b[0m\u001b[0mflags\u001b[0m\u001b[0;34m,\u001b[0m \u001b[0mcopy\u001b[0m\u001b[0;34m=\u001b[0m\u001b[0mcopy\u001b[0m\u001b[0;34m,\u001b[0m \u001b[0mtrack\u001b[0m\u001b[0;34m=\u001b[0m\u001b[0mtrack\u001b[0m\u001b[0;34m)\u001b[0m\u001b[0;34m]\u001b[0m\u001b[0;34m\u001b[0m\u001b[0m\n\u001b[0m\u001b[1;32m    396\u001b[0m         \u001b[0;31m# have first part already, only loop while more to receive\u001b[0m\u001b[0;34m\u001b[0m\u001b[0;34m\u001b[0m\u001b[0m\n",
            "\u001b[0;32mzmq/backend/cython/socket.pyx\u001b[0m in \u001b[0;36mzmq.backend.cython.socket.Socket.recv (zmq/backend/cython/socket.c:7683)\u001b[0;34m()\u001b[0m\n",
            "\u001b[0;32mzmq/backend/cython/socket.pyx\u001b[0m in \u001b[0;36mzmq.backend.cython.socket.Socket.recv (zmq/backend/cython/socket.c:7460)\u001b[0;34m()\u001b[0m\n",
            "\u001b[0;32mzmq/backend/cython/socket.pyx\u001b[0m in \u001b[0;36mzmq.backend.cython.socket._recv_copy (zmq/backend/cython/socket.c:2344)\u001b[0;34m()\u001b[0m\n",
            "\u001b[0;32m/home/denis/anaconda3/lib/python3.6/site-packages/zmq/backend/cython/checkrc.pxd\u001b[0m in \u001b[0;36mzmq.backend.cython.checkrc._check_rc (zmq/backend/cython/socket.c:9621)\u001b[0;34m()\u001b[0m\n",
            "\u001b[0;31mKeyboardInterrupt\u001b[0m: ",
            "\nDuring handling of the above exception, another exception occurred:\n",
            "\u001b[0;31mKeyboardInterrupt\u001b[0m                         Traceback (most recent call last)",
            "\u001b[0;32m<ipython-input-14-bf3cdc23e7a7>\u001b[0m in \u001b[0;36m<module>\u001b[0;34m()\u001b[0m\n\u001b[0;32m----> 1\u001b[0;31m \u001b[0ma\u001b[0m \u001b[0;34m=\u001b[0m \u001b[0mint\u001b[0m\u001b[0;34m(\u001b[0m\u001b[0minput\u001b[0m\u001b[0;34m(\u001b[0m\u001b[0;34m)\u001b[0m\u001b[0;34m)\u001b[0m\u001b[0;34m\u001b[0m\u001b[0m\n\u001b[0m\u001b[1;32m      2\u001b[0m \u001b[0mb\u001b[0m \u001b[0;34m=\u001b[0m \u001b[0mint\u001b[0m\u001b[0;34m(\u001b[0m\u001b[0minput\u001b[0m\u001b[0;34m(\u001b[0m\u001b[0;34m)\u001b[0m\u001b[0;34m)\u001b[0m\u001b[0;34m\u001b[0m\u001b[0m\n\u001b[1;32m      3\u001b[0m \u001b[0mx\u001b[0m \u001b[0;34m=\u001b[0m \u001b[0ma\u001b[0m \u001b[0;34m*\u001b[0m \u001b[0mb\u001b[0m\u001b[0;34m\u001b[0m\u001b[0m\n\u001b[1;32m      4\u001b[0m \u001b[0;32mwhile\u001b[0m \u001b[0ma\u001b[0m \u001b[0;34m!=\u001b[0m \u001b[0;36m0\u001b[0m \u001b[0;32mor\u001b[0m \u001b[0mb\u001b[0m \u001b[0;34m!=\u001b[0m \u001b[0;36m0\u001b[0m\u001b[0;34m:\u001b[0m\u001b[0;34m\u001b[0m\u001b[0m\n\u001b[1;32m      5\u001b[0m     \u001b[0;32mif\u001b[0m \u001b[0ma\u001b[0m \u001b[0;34m>\u001b[0m \u001b[0mb\u001b[0m\u001b[0;34m:\u001b[0m\u001b[0;34m\u001b[0m\u001b[0m\n",
            "\u001b[0;32m/home/denis/anaconda3/lib/python3.6/site-packages/ipykernel/kernelbase.py\u001b[0m in \u001b[0;36mraw_input\u001b[0;34m(self, prompt)\u001b[0m\n\u001b[1;32m    703\u001b[0m             \u001b[0mself\u001b[0m\u001b[0;34m.\u001b[0m\u001b[0m_parent_ident\u001b[0m\u001b[0;34m,\u001b[0m\u001b[0;34m\u001b[0m\u001b[0m\n\u001b[1;32m    704\u001b[0m             \u001b[0mself\u001b[0m\u001b[0;34m.\u001b[0m\u001b[0m_parent_header\u001b[0m\u001b[0;34m,\u001b[0m\u001b[0;34m\u001b[0m\u001b[0m\n\u001b[0;32m--> 705\u001b[0;31m             \u001b[0mpassword\u001b[0m\u001b[0;34m=\u001b[0m\u001b[0;32mFalse\u001b[0m\u001b[0;34m,\u001b[0m\u001b[0;34m\u001b[0m\u001b[0m\n\u001b[0m\u001b[1;32m    706\u001b[0m         )\n\u001b[1;32m    707\u001b[0m \u001b[0;34m\u001b[0m\u001b[0m\n",
            "\u001b[0;32m/home/denis/anaconda3/lib/python3.6/site-packages/ipykernel/kernelbase.py\u001b[0m in \u001b[0;36m_input_request\u001b[0;34m(self, prompt, ident, parent, password)\u001b[0m\n\u001b[1;32m    733\u001b[0m             \u001b[0;32mexcept\u001b[0m \u001b[0mKeyboardInterrupt\u001b[0m\u001b[0;34m:\u001b[0m\u001b[0;34m\u001b[0m\u001b[0m\n\u001b[1;32m    734\u001b[0m                 \u001b[0;31m# re-raise KeyboardInterrupt, to truncate traceback\u001b[0m\u001b[0;34m\u001b[0m\u001b[0;34m\u001b[0m\u001b[0m\n\u001b[0;32m--> 735\u001b[0;31m                 \u001b[0;32mraise\u001b[0m \u001b[0mKeyboardInterrupt\u001b[0m\u001b[0;34m\u001b[0m\u001b[0m\n\u001b[0m\u001b[1;32m    736\u001b[0m             \u001b[0;32melse\u001b[0m\u001b[0;34m:\u001b[0m\u001b[0;34m\u001b[0m\u001b[0m\n\u001b[1;32m    737\u001b[0m                 \u001b[0;32mbreak\u001b[0m\u001b[0;34m\u001b[0m\u001b[0m\n",
            "\u001b[0;31mKeyboardInterrupt\u001b[0m: "
          ]
        }
      ]
    },
    {
      "cell_type": "code",
      "metadata": {
        "id": "YxAxRV6DGjjD",
        "colab_type": "code",
        "outputId": "476b5471-0c9d-447b-943b-521c15f7809f",
        "colab": {}
      },
      "source": [
        "a = int(input())\n",
        "b = int(input())\n",
        "while a!=0 and b!=0:\n",
        "    if a > b:\n",
        "    a = a % b \n",
        "    else:\n",
        "        b = b % a\n",
        "\n",
        "print((a * b) / (a + b))"
      ],
      "execution_count": 0,
      "outputs": [
        {
          "output_type": "error",
          "ename": "IndentationError",
          "evalue": "expected an indented block (<ipython-input-2-e103398290d0>, line 5)",
          "traceback": [
            "\u001b[0;36m  File \u001b[0;32m\"<ipython-input-2-e103398290d0>\"\u001b[0;36m, line \u001b[0;32m5\u001b[0m\n\u001b[0;31m    a = a % b\u001b[0m\n\u001b[0m    ^\u001b[0m\n\u001b[0;31mIndentationError\u001b[0m\u001b[0;31m:\u001b[0m expected an indented block\n"
          ]
        }
      ]
    },
    {
      "cell_type": "code",
      "metadata": {
        "id": "klC5OKrnGjjM",
        "colab_type": "code",
        "outputId": "14ee0349-4559-4f6e-f01a-cf931a76116f",
        "colab": {}
      },
      "source": [
        "a = int(input())\n",
        "b = int(input())\n",
        "x = a * b\n",
        "while a > 0 or b > 0:\n",
        "    if a > b:\n",
        "        a = a % b\n",
        "    elif: \n",
        "        b = b % a\n",
        "print(x // (a + b))\n"
      ],
      "execution_count": 0,
      "outputs": [
        {
          "output_type": "error",
          "ename": "SyntaxError",
          "evalue": "invalid syntax (<ipython-input-13-75a0a99d46ae>, line 7)",
          "traceback": [
            "\u001b[0;36m  File \u001b[0;32m\"<ipython-input-13-75a0a99d46ae>\"\u001b[0;36m, line \u001b[0;32m7\u001b[0m\n\u001b[0;31m    elif:\u001b[0m\n\u001b[0m        ^\u001b[0m\n\u001b[0;31mSyntaxError\u001b[0m\u001b[0;31m:\u001b[0m invalid syntax\n"
          ]
        }
      ]
    },
    {
      "cell_type": "code",
      "metadata": {
        "id": "I8mX38iAGjjT",
        "colab_type": "code",
        "colab": {}
      },
      "source": [
        "a = int(input())\n",
        "b = int(input())\n",
        "x = a * b\n",
        "while a > 0 or b > 0:\n",
        "    if a > b:\n",
        "        a = a % b\n",
        "    elif: \n",
        "        b = b % a\n",
        "print(x // (a + b))"
      ],
      "execution_count": 0,
      "outputs": []
    },
    {
      "cell_type": "code",
      "metadata": {
        "id": "Dxy-MJPfGjjc",
        "colab_type": "code",
        "outputId": "c5ecc8a3-adc3-45f1-c127-10b2ac97c7e1",
        "colab": {}
      },
      "source": [
        "a = int(input())\n",
        "b = int(input())\n",
        "while a != 0 or b != 0:\n",
        "    if a > b:\n",
        "        a %= b\n",
        "    else:\n",
        "        b %= a\n",
        "\n",
        "print((a * b) / (a + b))"
      ],
      "execution_count": 0,
      "outputs": [
        {
          "output_type": "stream",
          "text": [
            "7\n",
            "6\n"
          ],
          "name": "stdout"
        },
        {
          "output_type": "error",
          "ename": "ZeroDivisionError",
          "evalue": "integer division or modulo by zero",
          "traceback": [
            "\u001b[0;31m---------------------------------------------------------------------------\u001b[0m",
            "\u001b[0;31mZeroDivisionError\u001b[0m                         Traceback (most recent call last)",
            "\u001b[0;32m<ipython-input-10-10e8cbf68b46>\u001b[0m in \u001b[0;36m<module>\u001b[0;34m()\u001b[0m\n\u001b[1;32m      3\u001b[0m \u001b[0;32mwhile\u001b[0m \u001b[0ma\u001b[0m \u001b[0;34m!=\u001b[0m \u001b[0;36m0\u001b[0m \u001b[0;32mor\u001b[0m \u001b[0mb\u001b[0m \u001b[0;34m!=\u001b[0m \u001b[0;36m0\u001b[0m\u001b[0;34m:\u001b[0m\u001b[0;34m\u001b[0m\u001b[0m\n\u001b[1;32m      4\u001b[0m     \u001b[0;32mif\u001b[0m \u001b[0ma\u001b[0m \u001b[0;34m>\u001b[0m \u001b[0mb\u001b[0m\u001b[0;34m:\u001b[0m\u001b[0;34m\u001b[0m\u001b[0m\n\u001b[0;32m----> 5\u001b[0;31m         \u001b[0ma\u001b[0m \u001b[0;34m%=\u001b[0m \u001b[0mb\u001b[0m\u001b[0;34m\u001b[0m\u001b[0m\n\u001b[0m\u001b[1;32m      6\u001b[0m     \u001b[0;32melse\u001b[0m\u001b[0;34m:\u001b[0m\u001b[0;34m\u001b[0m\u001b[0m\n\u001b[1;32m      7\u001b[0m         \u001b[0mb\u001b[0m \u001b[0;34m%=\u001b[0m \u001b[0ma\u001b[0m\u001b[0;34m\u001b[0m\u001b[0m\n",
            "\u001b[0;31mZeroDivisionError\u001b[0m: integer division or modulo by zero"
          ]
        }
      ]
    },
    {
      "cell_type": "code",
      "metadata": {
        "id": "MFYkztf6Gjjm",
        "colab_type": "code",
        "outputId": "815f27cd-1b4b-4aae-89ae-5317031e3013",
        "colab": {}
      },
      "source": [
        "n = int(input())\n",
        "s = 0\n",
        "while n != 0:\n",
        "    s += n\n",
        "    n = int(input())\n",
        "print(s)"
      ],
      "execution_count": 0,
      "outputs": [
        {
          "output_type": "stream",
          "text": [
            "5\n",
            "-3\n",
            "8\n",
            "4\n",
            "0\n",
            "14\n"
          ],
          "name": "stdout"
        }
      ]
    },
    {
      "cell_type": "code",
      "metadata": {
        "id": "CvNWkMT_Gjju",
        "colab_type": "code",
        "colab": {}
      },
      "source": [
        "a = int(input())\n",
        "b = int(input())\n",
        "d = (a * b)/\n",
        "while a % 2 or b % 2 = 0:\n",
        "    print\n",
        "    "
      ],
      "execution_count": 0,
      "outputs": []
    },
    {
      "cell_type": "code",
      "metadata": {
        "id": "0NFRzBn-Gjj0",
        "colab_type": "code",
        "colab": {}
      },
      "source": [
        "a = 5\n",
        "while a > 5:\n",
        "    print(a, end = \"\")\n",
        "    a -= 1"
      ],
      "execution_count": 0,
      "outputs": []
    },
    {
      "cell_type": "code",
      "metadata": {
        "id": "2s_8IGtdGjj8",
        "colab_type": "code",
        "colab": {}
      },
      "source": [
        "a = 5\n",
        "while a > 5:\n",
        "    print(a, end = \"\")\n",
        "    a -= 1\n",
        "    "
      ],
      "execution_count": 0,
      "outputs": []
    },
    {
      "cell_type": "code",
      "metadata": {
        "id": "GMkbp071GjkD",
        "colab_type": "code",
        "colab": {}
      },
      "source": [
        "a = 5\n",
        "while a > 5:\n",
        "    print(a, end = \"\")\n",
        "    a -= 1"
      ],
      "execution_count": 0,
      "outputs": []
    },
    {
      "cell_type": "code",
      "metadata": {
        "id": "dN2Pl6kKGjkL",
        "colab_type": "code",
        "outputId": "0354db86-d95a-426a-c2db-57c2cc1593ec",
        "colab": {}
      },
      "source": [
        "a = int(input('A = '))\n",
        "b = int(input('B = '))\n",
        "c = a * b\n",
        "while a != 0 and b != 0:\n",
        "    if a >= b:\n",
        "        a = a % b\n",
        "    else:\n",
        "        b = b % a\n",
        " \n",
        "print (c/(a+b))"
      ],
      "execution_count": 0,
      "outputs": [
        {
          "output_type": "stream",
          "text": [
            "A = 15\n",
            "B = 15\n",
            "15.0\n"
          ],
          "name": "stdout"
        }
      ]
    },
    {
      "cell_type": "code",
      "metadata": {
        "id": "OPaaD3j5GjkU",
        "colab_type": "code",
        "outputId": "382bbfd7-d202-4b68-cbf0-1fdcf67bc05d",
        "colab": {}
      },
      "source": [
        "a = int(input())\n",
        "b = int(input())\n",
        "c = a * b\n",
        "while a != 0 and b != 0:\n",
        "    if a >= b:\n",
        "        a = a % b\n",
        "    else:\n",
        "        b = b % a\n",
        "n = (c / (a + b)\n",
        "print(n)"
      ],
      "execution_count": 0,
      "outputs": [
        {
          "output_type": "error",
          "ename": "SyntaxError",
          "evalue": "invalid syntax (<ipython-input-9-aa8534f82357>, line 10)",
          "traceback": [
            "\u001b[0;36m  File \u001b[0;32m\"<ipython-input-9-aa8534f82357>\"\u001b[0;36m, line \u001b[0;32m10\u001b[0m\n\u001b[0;31m    print(n)\u001b[0m\n\u001b[0m        ^\u001b[0m\n\u001b[0;31mSyntaxError\u001b[0m\u001b[0;31m:\u001b[0m invalid syntax\n"
          ]
        }
      ]
    },
    {
      "cell_type": "code",
      "metadata": {
        "id": "OGM-ugt3Gjkb",
        "colab_type": "code",
        "outputId": "fcfd5749-ce7a-428b-fa11-79214dc2abb6",
        "colab": {}
      },
      "source": [
        "10\n"
      ],
      "execution_count": 0,
      "outputs": [
        {
          "output_type": "execute_result",
          "data": {
            "text/plain": [
              "10"
            ]
          },
          "metadata": {
            "tags": []
          },
          "execution_count": 6
        }
      ]
    },
    {
      "cell_type": "code",
      "metadata": {
        "id": "dRFQyN2JGjki",
        "colab_type": "code",
        "colab": {}
      },
      "source": [
        "a= int(input())\n",
        "if a % 1000 == a // 1000:\n",
        "    print('Счастливый')\n",
        "else:\n",
        "    print('Обычный')"
      ],
      "execution_count": 0,
      "outputs": []
    },
    {
      "cell_type": "code",
      "metadata": {
        "id": "TpMXDCVrGjkq",
        "colab_type": "code",
        "colab": {}
      },
      "source": [
        "a = 0\n",
        "while a > 0:\n",
        "    print(a, end = '')\n",
        "    a -= 1\n",
        "    "
      ],
      "execution_count": 0,
      "outputs": []
    },
    {
      "cell_type": "code",
      "metadata": {
        "id": "y3d9MpkfGjkz",
        "colab_type": "code",
        "outputId": "ae7e5ed2-48cb-4deb-d0ef-281a583e244e",
        "colab": {}
      },
      "source": [
        "a = 5\n",
        "while a <= 55:\n",
        "    print(a)\n",
        "    a += 2"
      ],
      "execution_count": 0,
      "outputs": [
        {
          "output_type": "stream",
          "text": [
            "5\n",
            "7\n",
            "9\n",
            "11\n",
            "13\n",
            "15\n",
            "17\n",
            "19\n",
            "21\n",
            "23\n",
            "25\n",
            "27\n",
            "29\n",
            "31\n",
            "33\n",
            "35\n",
            "37\n",
            "39\n",
            "41\n",
            "43\n",
            "45\n",
            "47\n",
            "49\n",
            "51\n",
            "53\n",
            "55\n"
          ],
          "name": "stdout"
        }
      ]
    },
    {
      "cell_type": "code",
      "metadata": {
        "id": "L8M9NTB8Gjk7",
        "colab_type": "code",
        "outputId": "e7b18340-cda0-422a-a278-36b0fe4a7ddc",
        "colab": {}
      },
      "source": [
        "s = input()"
      ],
      "execution_count": 0,
      "outputs": [
        {
          "output_type": "stream",
          "text": [
            "34 35 6\n"
          ],
          "name": "stdout"
        }
      ]
    },
    {
      "cell_type": "code",
      "metadata": {
        "id": "SdPjDr-oGjlC",
        "colab_type": "code",
        "outputId": "83318205-6e93-44fd-bde7-8ed445dc0bd8",
        "colab": {}
      },
      "source": [
        "a,b = map(float, input().split())\n",
        "a,b"
      ],
      "execution_count": 0,
      "outputs": [
        {
          "output_type": "stream",
          "text": [
            "24.345 234.42\n"
          ],
          "name": "stdout"
        },
        {
          "output_type": "execute_result",
          "data": {
            "text/plain": [
              "(24.345, 234.42)"
            ]
          },
          "metadata": {
            "tags": []
          },
          "execution_count": 39
        }
      ]
    },
    {
      "cell_type": "code",
      "metadata": {
        "id": "WAbNF4xsGjlI",
        "colab_type": "code",
        "outputId": "5ad312a7-a11a-4772-c9c7-0615eb716e82",
        "colab": {}
      },
      "source": [
        "i = 0\n",
        "while i <= 10:\n",
        "    i = i + 1\n",
        "    if i > 7:\n",
        "        i = i + 2\n",
        "        print(i)"
      ],
      "execution_count": 0,
      "outputs": [
        {
          "output_type": "stream",
          "text": [
            "10\n",
            "13\n"
          ],
          "name": "stdout"
        }
      ]
    },
    {
      "cell_type": "code",
      "metadata": {
        "id": "L6wAiekOGjlY",
        "colab_type": "code",
        "outputId": "d4f456de-83f8-4ecc-cccd-25e699bede39",
        "colab": {}
      },
      "source": [
        "a = str(input())\n",
        "sum1 = int(a[0]) + int(a[1]) + int(a[2])\n",
        "sum2 = int(a[3]) + int(a[4]) + int(a[5])\n",
        "if sum1 == sum2:\n",
        "    print('Счастливый')\n",
        "else:\n",
        "    print('Обычный')"
      ],
      "execution_count": 0,
      "outputs": [
        {
          "output_type": "stream",
          "text": [
            "123321\n",
            "Счастливый\n"
          ],
          "name": "stdout"
        }
      ]
    },
    {
      "cell_type": "code",
      "metadata": {
        "id": "orxmFVw4Gjlf",
        "colab_type": "code",
        "outputId": "7fedccbf-ad54-4f48-ffd9-eccf0acd72e3",
        "colab": {}
      },
      "source": [
        "n = int(input())\n",
        "c = 1\n",
        "while c <= n:\n",
        "    print('*' * c)\n",
        "    c += 1"
      ],
      "execution_count": 0,
      "outputs": [
        {
          "output_type": "stream",
          "text": [
            "10\n",
            "*\n",
            "**\n",
            "***\n",
            "****\n",
            "*****\n",
            "******\n",
            "*******\n",
            "********\n",
            "*********\n",
            "**********\n"
          ],
          "name": "stdout"
        }
      ]
    },
    {
      "cell_type": "code",
      "metadata": {
        "id": "QhseY-u3Gjli",
        "colab_type": "code",
        "colab": {}
      },
      "source": [
        "n = int(input())\n",
        "if ((n == 1) or (n % 10 == 1) or (n % 100 != 11)):\n",
        "        print( str(n), 'программист')\n",
        "elif ((n % 10 == 2) or (n % 100 != 12) or (n % 10 == 3)or (n % 100 != 13) or (n % 10 == 4) or (n % 100 != 14)):\n",
        "        print( str(n), 'программиста')\n",
        "else:\n",
        "        print(str(n), 'программистов')"
      ],
      "execution_count": 0,
      "outputs": []
    },
    {
      "cell_type": "code",
      "metadata": {
        "id": "UUPlVXWkGjlm",
        "colab_type": "code",
        "outputId": "dc26423e-9d81-4de7-a619-7dbaa77a0da4",
        "colab": {}
      },
      "source": [
        "n = int(input())\n",
        "stars = \"*\"\n",
        "while len(stars) <= n:\n",
        "    print(stars)\n",
        "    stars += \"*\""
      ],
      "execution_count": 0,
      "outputs": [
        {
          "output_type": "stream",
          "text": [
            "15\n",
            "*\n",
            "**\n",
            "***\n",
            "****\n",
            "*****\n",
            "******\n",
            "*******\n",
            "********\n",
            "*********\n",
            "**********\n",
            "***********\n",
            "************\n",
            "*************\n",
            "**************\n",
            "***************\n"
          ],
          "name": "stdout"
        }
      ]
    },
    {
      "cell_type": "code",
      "metadata": {
        "id": "qbnIsdL7Gjlu",
        "colab_type": "code",
        "outputId": "0df39e54-8ce2-479d-de61-05be98064209",
        "colab": {}
      },
      "source": [
        "i = 0\n",
        "while i < 5:\n",
        "    print('*')\n",
        "    if i % 2 == 0:\n",
        "        print('**')\n",
        "    if i > 2:\n",
        "        print('***')\n",
        "    i = i + 1\n"
      ],
      "execution_count": 0,
      "outputs": [
        {
          "output_type": "stream",
          "text": [
            "*\n",
            "**\n",
            "*\n",
            "*\n",
            "**\n",
            "*\n",
            "***\n",
            "*\n",
            "**\n",
            "***\n"
          ],
          "name": "stdout"
        }
      ]
    },
    {
      "cell_type": "code",
      "metadata": {
        "id": "S5edTNTsGjly",
        "colab_type": "code",
        "outputId": "91ac5597-6f5b-4901-ed56-9c118a94ea9b",
        "colab": {}
      },
      "source": [
        "# put your python code here\n",
        "n = int(input())\n",
        "if ((n == 1) and (n % 10 == 1) and (n % 100 != 11)):\n",
        "        print( str(n), 'программист')\n",
        "elif ((n % 10 == 2) and (n % 100 != 12) or (n % 10 == 3) and (n % 100 != 13) or (n % 10 == 4) and (n % 100 != 14)):\n",
        "        print( str(n), 'программиста')\n",
        "else:\n",
        "        print(str(n), 'программистов')\n",
        "        "
      ],
      "execution_count": 0,
      "outputs": [
        {
          "output_type": "stream",
          "text": [
            "2\n",
            "2 программиста\n"
          ],
          "name": "stdout"
        }
      ]
    },
    {
      "cell_type": "code",
      "metadata": {
        "id": "wEeWMxPxGjl4",
        "colab_type": "code",
        "colab": {}
      },
      "source": [
        "n = int(input())\n",
        "s = 0\n",
        "i = n\n",
        "while i <= n:\n",
        "    s += i\n",
        "    i = n\n",
        "    print(s)"
      ],
      "execution_count": 0,
      "outputs": []
    },
    {
      "cell_type": "code",
      "metadata": {
        "id": "xTzNEJjkGjl9",
        "colab_type": "code",
        "outputId": "d0eb4ddd-cc5a-4750-d2b6-f790b7376e7b",
        "colab": {}
      },
      "source": [
        "n = int(input())\n",
        "if ((n == 1) and (n % 10 == 1) and (n % 100 != 11)):\n",
        "        print( str(n), 'программист')\n",
        "elif ((n % 10 == 2) and (n % 100 != 12) or (n % 10 == 3) and (n % 100 != 13)  (n % 10 == 4) and (n % 100 != 14)):\n",
        "        print( str(n), 'программиста')\n",
        "else:\n",
        "        print(str(n), 'программистов')\n",
        "        "
      ],
      "execution_count": 0,
      "outputs": [
        {
          "output_type": "stream",
          "text": [
            "23\n",
            "23 программистов\n"
          ],
          "name": "stdout"
        }
      ]
    },
    {
      "cell_type": "code",
      "metadata": {
        "id": "uKYzqFecGjmB",
        "colab_type": "code",
        "colab": {}
      },
      "source": [
        "S = []\n",
        "n = int(input())\n",
        "for i in range(1,n+1):\n",
        "  x,y = map(int, input.readline().split())\n",
        "  S.append([x,y])"
      ],
      "execution_count": 0,
      "outputs": []
    },
    {
      "cell_type": "code",
      "metadata": {
        "id": "XXUcONpiGjmF",
        "colab_type": "code",
        "colab": {}
      },
      "source": [
        "def numeric_str(n, word):\n",
        "    ending = ''\n",
        "    if (n % 10 == 1) and not(n % 100 == 11):\n",
        "        ending = ''\n",
        "    elif n % 100 >= 10 and  n % 100 <= 20:\n",
        "        ending = 'ов'\n",
        "    elif n % 10 == 0 or n % 10 >= 5:\n",
        "        ending = 'ов'\n",
        "    else:\n",
        "        ending = 'а'\n",
        "    return str(n) + ' ' + word + ending\n",
        "\n",
        "def test(range_max, word):\n",
        "    for n in range(range_max):\n",
        "        print(numeric_str(n, word))    \n",
        "        \n",
        "def __main__():\n",
        "    print(numeric_str(int(input()), 'программист'))"
      ],
      "execution_count": 0,
      "outputs": []
    },
    {
      "cell_type": "code",
      "metadata": {
        "id": "4Skp-uJ1GjmJ",
        "colab_type": "code",
        "colab": {}
      },
      "source": [
        "def __main__():\n",
        "    print(numeric_str(int(input()), 'программист'))"
      ],
      "execution_count": 0,
      "outputs": []
    },
    {
      "cell_type": "code",
      "metadata": {
        "id": "yAIbYJC9GjmN",
        "colab_type": "code",
        "outputId": "b5ddc0d8-f25e-46ea-bf39-3cbaec5e2313",
        "colab": {}
      },
      "source": [
        "test(100, 'кот')"
      ],
      "execution_count": 0,
      "outputs": [
        {
          "output_type": "stream",
          "text": [
            "0 котов\n",
            "1 кот\n",
            "2 кота\n",
            "3 кота\n",
            "4 кота\n",
            "5 котов\n",
            "6 котов\n",
            "7 котов\n",
            "8 котов\n",
            "9 котов\n",
            "10 котов\n",
            "11 котов\n",
            "12 котов\n",
            "13 котов\n",
            "14 котов\n",
            "15 котов\n",
            "16 котов\n",
            "17 котов\n",
            "18 котов\n",
            "19 котов\n",
            "20 котов\n",
            "21 кот\n",
            "22 кота\n",
            "23 кота\n",
            "24 кота\n",
            "25 котов\n",
            "26 котов\n",
            "27 котов\n",
            "28 котов\n",
            "29 котов\n",
            "30 котов\n",
            "31 кот\n",
            "32 кота\n",
            "33 кота\n",
            "34 кота\n",
            "35 котов\n",
            "36 котов\n",
            "37 котов\n",
            "38 котов\n",
            "39 котов\n",
            "40 котов\n",
            "41 кот\n",
            "42 кота\n",
            "43 кота\n",
            "44 кота\n",
            "45 котов\n",
            "46 котов\n",
            "47 котов\n",
            "48 котов\n",
            "49 котов\n",
            "50 котов\n",
            "51 кот\n",
            "52 кота\n",
            "53 кота\n",
            "54 кота\n",
            "55 котов\n",
            "56 котов\n",
            "57 котов\n",
            "58 котов\n",
            "59 котов\n",
            "60 котов\n",
            "61 кот\n",
            "62 кота\n",
            "63 кота\n",
            "64 кота\n",
            "65 котов\n",
            "66 котов\n",
            "67 котов\n",
            "68 котов\n",
            "69 котов\n",
            "70 котов\n",
            "71 кот\n",
            "72 кота\n",
            "73 кота\n",
            "74 кота\n",
            "75 котов\n",
            "76 котов\n",
            "77 котов\n",
            "78 котов\n",
            "79 котов\n",
            "80 котов\n",
            "81 кот\n",
            "82 кота\n",
            "83 кота\n",
            "84 кота\n",
            "85 котов\n",
            "86 котов\n",
            "87 котов\n",
            "88 котов\n",
            "89 котов\n",
            "90 котов\n",
            "91 кот\n",
            "92 кота\n",
            "93 кота\n",
            "94 кота\n",
            "95 котов\n",
            "96 котов\n",
            "97 котов\n",
            "98 котов\n",
            "99 котов\n"
          ],
          "name": "stdout"
        }
      ]
    },
    {
      "cell_type": "code",
      "metadata": {
        "id": "7MhiQ2_xGjmR",
        "colab_type": "code",
        "outputId": "e527319b-5c07-4fc0-af29-84397351184a",
        "colab": {}
      },
      "source": [
        "a = int(input())\n",
        "b = int(input())\n",
        "c = int(input())\n",
        "p = (a + b + c) / 2\n",
        "S = ((p * (p - a)) * (p - b) * (p - c)) ** 0.5 \n",
        "print (S)\n"
      ],
      "execution_count": 0,
      "outputs": [
        {
          "output_type": "stream",
          "text": [
            "3\n",
            "4\n",
            "5\n",
            "6.0\n"
          ],
          "name": "stdout"
        }
      ]
    },
    {
      "cell_type": "code",
      "metadata": {
        "id": "nntAnH6TGjmU",
        "colab_type": "code",
        "outputId": "f3615760-d705-45c3-a3cf-bc7494538be9",
        "colab": {}
      },
      "source": [
        "n = int(input())\n",
        "if -15 < n <= 12:\n",
        "    print (True)\n",
        "elif 14 < n < 17:\n",
        "    print (True)\n",
        "elif 19 <= n:\n",
        "    print (True)\n",
        "else:\n",
        "    print (False)\n",
        "    "
      ],
      "execution_count": 0,
      "outputs": [
        {
          "output_type": "stream",
          "text": [
            "-20\n",
            "False\n"
          ],
          "name": "stdout"
        }
      ]
    },
    {
      "cell_type": "code",
      "metadata": {
        "id": "90VpNa8zGjmY",
        "colab_type": "code",
        "outputId": "aa56babe-2f80-4ad2-e54f-018b6e42ecc3",
        "colab": {}
      },
      "source": [
        "a = float(input())\n",
        "b = float(input())\n",
        "z = input()\n",
        "if z == '/' or z == 'mod' or z == 'div') and (b == 0.0):\n",
        "    print('Деление на 0!')\n",
        "elif z == '+':\n",
        "    print(a + b)\n",
        "elif z == '-':\n",
        "    print(a - b)\n",
        "elif z == '/':\n",
        "    print(a / b)\n",
        "elif z == '*':\n",
        "    print (a * b)\n",
        "elif z == 'mod':\n",
        "    print(a % b)\n",
        "elif z == 'pow':\n",
        "    print(a ** b)\n",
        "elif z == 'div':\n",
        "    print(a // b)\n",
        "else:\n",
        "    print('Неправильный ввод')"
      ],
      "execution_count": 0,
      "outputs": [
        {
          "output_type": "error",
          "ename": "SyntaxError",
          "evalue": "invalid syntax (<ipython-input-32-18d0eade88ee>, line 4)",
          "traceback": [
            "\u001b[0;36m  File \u001b[0;32m\"<ipython-input-32-18d0eade88ee>\"\u001b[0;36m, line \u001b[0;32m4\u001b[0m\n\u001b[0;31m    if z == '/' or z == 'mod' or z == 'div') and (b == 0.0):\u001b[0m\n\u001b[0m                                           ^\u001b[0m\n\u001b[0;31mSyntaxError\u001b[0m\u001b[0;31m:\u001b[0m invalid syntax\n"
          ]
        }
      ]
    },
    {
      "cell_type": "code",
      "metadata": {
        "id": "_V69xvRUGjmb",
        "colab_type": "code",
        "outputId": "3c4f9baa-3ac3-457f-911c-674bd36f4f13",
        "colab": {}
      },
      "source": [
        "a = float(input())\n",
        "b = float(input())\n",
        "z = input()\n",
        "if (z == '/' or z == 'mod' or z == 'div') and (b == 0.0):\n",
        "    print('Деление на 0!')\n",
        "elif z == '+':\n",
        "    print(a + b)\n",
        "elif z == '-':\n",
        "    print(a - b)\n",
        "elif z == '/':\n",
        "    print(a / b)\n",
        "elif z == '*':\n",
        "    print (a * b)\n",
        "elif z == 'mod':\n",
        "    print(a % b)\n",
        "elif z == 'pow':\n",
        "    print(a ** b)\n",
        "elif z == 'div':\n",
        "    print(a // b)\n",
        "else:\n",
        "    print('Неправильный ввод')"
      ],
      "execution_count": 0,
      "outputs": [
        {
          "output_type": "stream",
          "text": [
            "5.0\n",
            "10.0\n",
            "/\n",
            "0.5\n"
          ],
          "name": "stdout"
        }
      ]
    },
    {
      "cell_type": "code",
      "metadata": {
        "id": "AEO_hqc6Gjmi",
        "colab_type": "code",
        "outputId": "34f9e036-e82f-4449-db25-6a07ec94d3ef",
        "colab": {}
      },
      "source": [
        "n = input()\n",
        "if n == 'треугольник':\n",
        "    a = int(input())\n",
        "    b = int(input())\n",
        "    c = int(input())\n",
        "    p = (a + b + c) / 2\n",
        "    S = ((p * (p - a)) * (p - b) * (p - c)) ** 0.5 \n",
        "    print(S)\n",
        "elif n == 'прямоугольник':\n",
        "    a = int(input())\n",
        "    b = int(input())\n",
        "    print(a * b)\n",
        "elif n == 'круг':\n",
        "    r = int(input())\n",
        "    print(3.14 * r ** 2)\n",
        "else:\n",
        "    print('Неправильный ввод')"
      ],
      "execution_count": 0,
      "outputs": [
        {
          "output_type": "stream",
          "text": [
            "круг\n",
            "5\n",
            "78.5\n"
          ],
          "name": "stdout"
        }
      ]
    },
    {
      "cell_type": "code",
      "metadata": {
        "id": "EglqG8hQGjmn",
        "colab_type": "code",
        "outputId": "6292c07c-1ded-4791-ca0d-0bb3f28d21e6",
        "colab": {}
      },
      "source": [
        "a, b, c = int(input()), int(input()), int(input())\n",
        "s = (a + b + c)\n",
        "print(max(a, b, c))\n",
        "print(min(a, b, c))\n",
        "print(s - max(a, b, c) - min(a, b, c))\n",
        "\n"
      ],
      "execution_count": 0,
      "outputs": [
        {
          "output_type": "stream",
          "text": [
            "5\n",
            "8\n",
            "14\n"
          ],
          "name": "stdout"
        },
        {
          "output_type": "error",
          "ename": "TypeError",
          "evalue": "'int' object is not callable",
          "traceback": [
            "\u001b[0;31m---------------------------------------------------------------------------\u001b[0m",
            "\u001b[0;31mTypeError\u001b[0m                                 Traceback (most recent call last)",
            "\u001b[0;32m<ipython-input-49-ed94c93be11f>\u001b[0m in \u001b[0;36m<module>\u001b[0;34m()\u001b[0m\n\u001b[1;32m      1\u001b[0m \u001b[0ma\u001b[0m\u001b[0;34m,\u001b[0m \u001b[0mb\u001b[0m\u001b[0;34m,\u001b[0m \u001b[0mc\u001b[0m \u001b[0;34m=\u001b[0m \u001b[0mint\u001b[0m\u001b[0;34m(\u001b[0m\u001b[0minput\u001b[0m\u001b[0;34m(\u001b[0m\u001b[0;34m)\u001b[0m\u001b[0;34m)\u001b[0m\u001b[0;34m,\u001b[0m \u001b[0mint\u001b[0m\u001b[0;34m(\u001b[0m\u001b[0minput\u001b[0m\u001b[0;34m(\u001b[0m\u001b[0;34m)\u001b[0m\u001b[0;34m)\u001b[0m\u001b[0;34m,\u001b[0m \u001b[0mint\u001b[0m\u001b[0;34m(\u001b[0m\u001b[0minput\u001b[0m\u001b[0;34m(\u001b[0m\u001b[0;34m)\u001b[0m\u001b[0;34m)\u001b[0m\u001b[0;34m\u001b[0m\u001b[0m\n\u001b[1;32m      2\u001b[0m \u001b[0ms\u001b[0m \u001b[0;34m=\u001b[0m \u001b[0;34m(\u001b[0m\u001b[0ma\u001b[0m \u001b[0;34m+\u001b[0m \u001b[0mb\u001b[0m \u001b[0;34m+\u001b[0m \u001b[0mc\u001b[0m\u001b[0;34m)\u001b[0m\u001b[0;34m\u001b[0m\u001b[0m\n\u001b[0;32m----> 3\u001b[0;31m \u001b[0mprint\u001b[0m\u001b[0;34m(\u001b[0m\u001b[0mmax\u001b[0m\u001b[0;34m(\u001b[0m\u001b[0ma\u001b[0m\u001b[0;34m,\u001b[0m \u001b[0mb\u001b[0m\u001b[0;34m,\u001b[0m \u001b[0mc\u001b[0m\u001b[0;34m)\u001b[0m\u001b[0;34m)\u001b[0m\u001b[0;34m\u001b[0m\u001b[0m\n\u001b[0m\u001b[1;32m      4\u001b[0m \u001b[0mprint\u001b[0m\u001b[0;34m(\u001b[0m\u001b[0mmin\u001b[0m\u001b[0;34m(\u001b[0m\u001b[0ma\u001b[0m\u001b[0;34m,\u001b[0m \u001b[0mb\u001b[0m\u001b[0;34m,\u001b[0m \u001b[0mc\u001b[0m\u001b[0;34m)\u001b[0m\u001b[0;34m)\u001b[0m\u001b[0;34m\u001b[0m\u001b[0m\n\u001b[1;32m      5\u001b[0m \u001b[0mprint\u001b[0m\u001b[0;34m(\u001b[0m\u001b[0ms\u001b[0m \u001b[0;34m-\u001b[0m \u001b[0mmax\u001b[0m\u001b[0;34m(\u001b[0m\u001b[0ma\u001b[0m\u001b[0;34m,\u001b[0m \u001b[0mb\u001b[0m\u001b[0;34m,\u001b[0m \u001b[0mc\u001b[0m\u001b[0;34m)\u001b[0m \u001b[0;34m-\u001b[0m \u001b[0mmin\u001b[0m\u001b[0;34m(\u001b[0m\u001b[0ma\u001b[0m\u001b[0;34m,\u001b[0m \u001b[0mb\u001b[0m\u001b[0;34m,\u001b[0m \u001b[0mc\u001b[0m\u001b[0;34m)\u001b[0m\u001b[0;34m)\u001b[0m\u001b[0;34m\u001b[0m\u001b[0m\n",
            "\u001b[0;31mTypeError\u001b[0m: 'int' object is not callable"
          ]
        }
      ]
    },
    {
      "cell_type": "code",
      "metadata": {
        "id": "1K2orL_5Gjmu",
        "colab_type": "code",
        "outputId": "0a5b49c9-362a-457a-c775-0e021aa6c2b8",
        "colab": {}
      },
      "source": [
        "a = int(input())\n",
        "b = int(input())\n",
        "c = int(input())\n",
        "d = a + b + c\n",
        "t1 = max(a, b, c)\n",
        "t2 = min(a, b, c)\n",
        "t3 = (d - max(a, b, c) - min(a, b, c))\n",
        "print('\\n', t1, '\\n', t2, '\\n', t3)\n"
      ],
      "execution_count": 0,
      "outputs": [
        {
          "output_type": "stream",
          "text": [
            "1\n",
            "2\n",
            "3\n",
            "\n",
            " 3 \n",
            " 1 \n",
            " 2\n"
          ],
          "name": "stdout"
        }
      ]
    },
    {
      "cell_type": "code",
      "metadata": {
        "id": "hZOXrry8Gjmz",
        "colab_type": "code",
        "colab": {}
      },
      "source": [
        "n = int(input())\n",
        "if n % 10 == 1:\n",
        "    print(n, 'программист')\n",
        "elif n == 1:\n",
        "    print(n, 'программист')\n",
        "elif n % 10 == 2:\n",
        "    print(n, 'программиста')\n",
        "elif n % 10 == 3:\n",
        "    print(n, 'программиста')\n",
        "elif n % 10 == 4:\n",
        "    print(n, 'программиста')\n",
        "elif n % 10 == 5:\n",
        "    print(n, 'программистов')\n",
        "elif n % 10 == 6:\n",
        "    print(n, 'программистов')\n",
        "elif n % 10 == 7:\n",
        "    print(n, 'программистов')\n",
        "elif n % 10 == 8:\n",
        "    print(n, 'программистов')\n",
        "elif n % 10 == 9:\n",
        "    print(n, 'программистов')\n",
        "elif n % 10 == 0:\n",
        "    print(n, 'программистов')\n",
        "else:\n",
        "    print('Неправильный ввод')\n",
        "    \n",
        "    \n",
        "    \n",
        "    "
      ],
      "execution_count": 0,
      "outputs": []
    },
    {
      "cell_type": "code",
      "metadata": {
        "id": "_3LRfYMSGjm4",
        "colab_type": "code",
        "colab": {}
      },
      "source": [
        "n = int(input())\n",
        "if n % 10 == 1:\n",
        "    print(n, 'программист')\n",
        "elif n == 1:\n",
        "    print(n, 'программист')\n",
        "elif n % 10 == 2:\n",
        "    print(n, 'программиста')\n",
        "elif n % 10 == 3:\n",
        "    print(n, 'программиста')\n",
        "elif n % 10 == 4:\n",
        "    print(n, 'программиста')\n",
        "elif n % 10 == 5:\n",
        "    print(n, 'программистов')\n",
        "elif n % 10 == 6:\n",
        "    print(n, 'программистов')\n",
        "elif n % 10 == 7:\n",
        "    print(n, 'программистов')\n",
        "elif n % 10 == 8:\n",
        "    print(n, 'программистов')\n",
        "elif n % 10 == 9:\n",
        "    print(n, 'программистов')\n",
        "elif n % 10 == 0:\n",
        "    print(n, 'программистов')\n",
        "else:\n",
        "    print('Неправильный ввод')"
      ],
      "execution_count": 0,
      "outputs": []
    },
    {
      "cell_type": "code",
      "metadata": {
        "id": "1kJ4qnOFGjm8",
        "colab_type": "code",
        "colab": {}
      },
      "source": [
        "n = int(input())\n",
        "if n % 1 == 1:\n",
        "    print('программист')\n",
        "else:\n",
        "    print('+')\n",
        "    "
      ],
      "execution_count": 0,
      "outputs": []
    },
    {
      "cell_type": "code",
      "metadata": {
        "id": "BTtw7C91GjnB",
        "colab_type": "code",
        "outputId": "616aa1b8-6547-45f7-ae4a-46371377085f",
        "colab": {}
      },
      "source": [
        "n = int(input())\n",
        "for n in range(1000)\n",
        "if n % 10 == 1:\n",
        "    print(n, 'программист')\n",
        "elif n == 1:\n",
        "    print(n, 'программист')\n",
        "elif n == 11:\n",
        "    print(n, 'программистов')\n",
        "elif n == 12:\n",
        "    print(n, 'программистов')\n",
        "elif n == 13:\n",
        "    print(n, 'программистов')\n",
        "elif n == 14:\n",
        "    print(n, 'программистов')\n",
        "elif n % 10 == 2:\n",
        "    print(n, 'программиста')\n",
        "elif n % 10 == 3:\n",
        "    print(n, 'программиста')\n",
        "elif n % 10 == 4:\n",
        "    print(n, 'программиста')\n",
        "elif n % 10 == 5:\n",
        "    print(n, 'программистов')\n",
        "elif n % 10 == 6:\n",
        "    print(n, 'программистов')\n",
        "elif n % 10 == 7:\n",
        "    print(n, 'программистов')\n",
        "elif n % 10 == 8:\n",
        "    print(n, 'программистов')\n",
        "elif n % 10 == 9:\n",
        "    print(n, 'программистов')\n",
        "elif n % 10 == 0:\n",
        "    print(n, 'программистов')\n",
        "else:\n",
        "    print('Неправильный ввод')"
      ],
      "execution_count": 0,
      "outputs": [
        {
          "output_type": "stream",
          "text": [
            "11\n",
            "11 программист\n"
          ],
          "name": "stdout"
        }
      ]
    },
    {
      "cell_type": "code",
      "metadata": {
        "id": "4ftJrWvUGjnE",
        "colab_type": "code",
        "colab": {}
      },
      "source": [
        "a, b, c = int(input()), int(input()), int(input())\n",
        "print(max(a, b, c))\n",
        "print(min(a, b, c))\n"
      ],
      "execution_count": 0,
      "outputs": []
    },
    {
      "cell_type": "code",
      "metadata": {
        "id": "j99qMf-OGjnI",
        "colab_type": "code",
        "colab": {}
      },
      "source": [
        ""
      ],
      "execution_count": 0,
      "outputs": []
    },
    {
      "cell_type": "code",
      "metadata": {
        "id": "wRs2HKwoGjnL",
        "colab_type": "code",
        "outputId": "eacd5084-838a-4891-f671-5ad98223ea66",
        "colab": {}
      },
      "source": [
        "a = float(input())\n",
        "b = float(input())\n",
        "z = str(input())\n",
        "if z == '+':\n",
        "    print(a + b)\n",
        "elif z == '-':\n",
        "    print(a - b)\n",
        "elif z == '/' and b == 0:\n",
        "    print('Деление на 0!')\n",
        "else:\n",
        "    print('Неправильный ввод')"
      ],
      "execution_count": 0,
      "outputs": [
        {
          "output_type": "stream",
          "text": [
            "70\n",
            "51\n",
            "+\n",
            "121.0\n"
          ],
          "name": "stdout"
        }
      ]
    },
    {
      "cell_type": "code",
      "metadata": {
        "id": "B7WvUge7GjnQ",
        "colab_type": "code",
        "colab": {}
      },
      "source": [
        "X = int(input())\n",
        "print (X // 60)\n",
        "print (X % 60)"
      ],
      "execution_count": 0,
      "outputs": []
    },
    {
      "cell_type": "code",
      "metadata": {
        "id": "0CFKaC7TGjnT",
        "colab_type": "code",
        "outputId": "d75e40e2-367d-49c4-de86-580c51d780b0",
        "colab": {}
      },
      "source": [
        "\"123\" + \"42\""
      ],
      "execution_count": 0,
      "outputs": [
        {
          "output_type": "execute_result",
          "data": {
            "text/plain": [
              "'12342'"
            ]
          },
          "metadata": {
            "tags": []
          },
          "execution_count": 6
        }
      ]
    },
    {
      "cell_type": "code",
      "metadata": {
        "id": "XcHna8a3GjnW",
        "colab_type": "code",
        "outputId": "9ca0fa40-4cd0-4d54-9dc5-0f375e746bf9",
        "colab": {}
      },
      "source": [
        "5 <=7"
      ],
      "execution_count": 0,
      "outputs": [
        {
          "output_type": "execute_result",
          "data": {
            "text/plain": [
              "True"
            ]
          },
          "metadata": {
            "tags": []
          },
          "execution_count": 1
        }
      ]
    },
    {
      "cell_type": "code",
      "metadata": {
        "id": "b4RWj357Gjna",
        "colab_type": "code",
        "colab": {}
      },
      "source": [
        "\n",
        "X = int(input())\n",
        "print (X // 60)\n",
        "print (X % 60)\n",
        "\n"
      ],
      "execution_count": 0,
      "outputs": []
    },
    {
      "cell_type": "code",
      "metadata": {
        "id": "GdWXFocVGjne",
        "colab_type": "code",
        "outputId": "299cb3dd-e9ba-4ee3-a2aa-49c045717ca7",
        "colab": {}
      },
      "source": [
        "a = int (input())\n",
        "print (a > 0)\n"
      ],
      "execution_count": 0,
      "outputs": [
        {
          "output_type": "stream",
          "text": [
            "0\n",
            "False\n"
          ],
          "name": "stdout"
        }
      ]
    },
    {
      "cell_type": "code",
      "metadata": {
        "id": "QaKD3m4QGjnj",
        "colab_type": "code",
        "colab": {}
      },
      "source": [
        "2014 ** 14\n"
      ],
      "execution_count": 0,
      "outputs": []
    },
    {
      "cell_type": "code",
      "metadata": {
        "id": "NO-mI_bhGjno",
        "colab_type": "code",
        "outputId": "e16516dc-2c79-4f57-dc11-d45136938d5f",
        "colab": {}
      },
      "source": [
        "a = int (input())\n",
        "print (10 <= a < 100)\n"
      ],
      "execution_count": 0,
      "outputs": [
        {
          "output_type": "stream",
          "text": [
            "5855\n",
            "False\n"
          ],
          "name": "stdout"
        }
      ]
    },
    {
      "cell_type": "code",
      "metadata": {
        "id": "CuASpW_UGjnz",
        "colab_type": "code",
        "outputId": "1d68f7ff-acee-4b14-899c-34df5b9b995d",
        "colab": {}
      },
      "source": [
        "2 + 5"
      ],
      "execution_count": 0,
      "outputs": [
        {
          "output_type": "execute_result",
          "data": {
            "text/plain": [
              "7"
            ]
          },
          "metadata": {
            "tags": []
          },
          "execution_count": 1
        }
      ]
    },
    {
      "cell_type": "code",
      "metadata": {
        "id": "2S_QeYnbGjn4",
        "colab_type": "code",
        "outputId": "24c9f175-8f1f-4283-d83c-232d38edff27",
        "colab": {}
      },
      "source": [
        "a = True\n",
        "b = False\n",
        "a and b or not a and not b"
      ],
      "execution_count": 0,
      "outputs": [
        {
          "output_type": "execute_result",
          "data": {
            "text/plain": [
              "False"
            ]
          },
          "metadata": {
            "tags": []
          },
          "execution_count": 10
        }
      ]
    },
    {
      "cell_type": "code",
      "metadata": {
        "id": "Ihjj4p1hGjn8",
        "colab_type": "code",
        "outputId": "f40a68f5-f201-4dd5-8b3a-5523e40f7419",
        "colab": {}
      },
      "source": [
        "((a and b) or ((not a) and (not b)))"
      ],
      "execution_count": 0,
      "outputs": [
        {
          "output_type": "error",
          "ename": "NameError",
          "evalue": "name 'b' is not defined",
          "traceback": [
            "\u001b[0;31m---------------------------------------------------------------------------\u001b[0m",
            "\u001b[0;31mNameError\u001b[0m                                 Traceback (most recent call last)",
            "\u001b[0;32m<ipython-input-8-eb21356949f8>\u001b[0m in \u001b[0;36m<module>\u001b[0;34m()\u001b[0m\n\u001b[0;32m----> 1\u001b[0;31m \u001b[0;34m(\u001b[0m\u001b[0;34m(\u001b[0m\u001b[0ma\u001b[0m \u001b[0;32mand\u001b[0m \u001b[0mb\u001b[0m\u001b[0;34m)\u001b[0m \u001b[0;32mor\u001b[0m \u001b[0;34m(\u001b[0m\u001b[0;34m(\u001b[0m\u001b[0;32mnot\u001b[0m \u001b[0ma\u001b[0m\u001b[0;34m)\u001b[0m \u001b[0;32mand\u001b[0m \u001b[0;34m(\u001b[0m\u001b[0;32mnot\u001b[0m \u001b[0mb\u001b[0m\u001b[0;34m)\u001b[0m\u001b[0;34m)\u001b[0m\u001b[0;34m)\u001b[0m\u001b[0;34m\u001b[0m\u001b[0m\n\u001b[0m",
            "\u001b[0;31mNameError\u001b[0m: name 'b' is not defined"
          ]
        }
      ]
    },
    {
      "cell_type": "code",
      "metadata": {
        "id": "lVJ0U8wVGjn-",
        "colab_type": "code",
        "outputId": "b3ffa44f-7366-4f3a-f381-1b2427849fe7",
        "colab": {}
      },
      "source": [
        "- (42)"
      ],
      "execution_count": 0,
      "outputs": [
        {
          "output_type": "execute_result",
          "data": {
            "text/plain": [
              "-42"
            ]
          },
          "metadata": {
            "tags": []
          },
          "execution_count": 2
        }
      ]
    },
    {
      "cell_type": "code",
      "metadata": {
        "id": "Sz2FedVzGjoA",
        "colab_type": "code",
        "outputId": "36becd86-07e9-4b73-fbcf-edba012719e3",
        "colab": {}
      },
      "source": [
        "0.5 + 0.3"
      ],
      "execution_count": 0,
      "outputs": [
        {
          "output_type": "execute_result",
          "data": {
            "text/plain": [
              "0.8"
            ]
          },
          "metadata": {
            "tags": []
          },
          "execution_count": 3
        }
      ]
    },
    {
      "cell_type": "code",
      "metadata": {
        "id": "AOlGZNwmGjoE",
        "colab_type": "code",
        "colab": {}
      },
      "source": [
        "for x in 1,2,3,4:\n",
        "    print (x**2)\n",
        "    "
      ],
      "execution_count": 0,
      "outputs": []
    },
    {
      "cell_type": "code",
      "metadata": {
        "id": "vEMX83g_GjoG",
        "colab_type": "code",
        "outputId": "eb8e4bf2-b645-4632-82f1-cd5e0ffcf464",
        "colab": {}
      },
      "source": [
        "5 // 2"
      ],
      "execution_count": 0,
      "outputs": [
        {
          "output_type": "execute_result",
          "data": {
            "text/plain": [
              "2"
            ]
          },
          "metadata": {
            "tags": []
          },
          "execution_count": 4
        }
      ]
    },
    {
      "cell_type": "code",
      "metadata": {
        "id": "9xVxjoocGjoK",
        "colab_type": "code",
        "outputId": "a6f09426-e21d-4fc9-8d25-4f2c3162c206",
        "colab": {}
      },
      "source": [
        "5 / 2"
      ],
      "execution_count": 0,
      "outputs": [
        {
          "output_type": "execute_result",
          "data": {
            "text/plain": [
              "2.5"
            ]
          },
          "metadata": {
            "tags": []
          },
          "execution_count": 5
        }
      ]
    },
    {
      "cell_type": "code",
      "metadata": {
        "id": "c0CCcbLpGjoO",
        "colab_type": "code",
        "outputId": "e8012670-8209-40d6-ad8c-a59c839c2a85",
        "colab": {}
      },
      "source": [
        "14 - 1"
      ],
      "execution_count": 0,
      "outputs": [
        {
          "output_type": "execute_result",
          "data": {
            "text/plain": [
              "13"
            ]
          },
          "metadata": {
            "tags": []
          },
          "execution_count": 2
        }
      ]
    },
    {
      "cell_type": "code",
      "metadata": {
        "id": "-fptdCsDGjoV",
        "colab_type": "code",
        "outputId": "d4104d58-15ad-418b-98dc-3511902c650f",
        "colab": {}
      },
      "source": [
        "0.3 + 0.3 + 0.3"
      ],
      "execution_count": 0,
      "outputs": [
        {
          "output_type": "execute_result",
          "data": {
            "text/plain": [
              "0.8999999999999999"
            ]
          },
          "metadata": {
            "tags": []
          },
          "execution_count": 6
        }
      ]
    },
    {
      "cell_type": "code",
      "metadata": {
        "id": "7XEZ4AyfGjoZ",
        "colab_type": "code",
        "colab": {}
      },
      "source": [
        "def gsd(a, b):\n",
        "    if a == 0:\n",
        "        return b\n",
        "    if b == 0:\n",
        "        return a\n",
        "    if a >= b:\n",
        "        return (a % b, b)\n",
        "    if a <= b:\n",
        "        return (a, b % a)"
      ],
      "execution_count": 0,
      "outputs": []
    },
    {
      "cell_type": "code",
      "metadata": {
        "id": "yDgGDaLGGjod",
        "colab_type": "code",
        "outputId": "bb6bd290-b869-4cf3-e163-9e69593724fe",
        "colab": {}
      },
      "source": [
        "2 ** 5"
      ],
      "execution_count": 0,
      "outputs": [
        {
          "output_type": "execute_result",
          "data": {
            "text/plain": [
              "32"
            ]
          },
          "metadata": {
            "tags": []
          },
          "execution_count": 7
        }
      ]
    },
    {
      "cell_type": "code",
      "metadata": {
        "id": "ZmnztwP0Gjoi",
        "colab_type": "code",
        "outputId": "dd7a5a64-7b88-489a-b96d-e870c126e9bd",
        "colab": {}
      },
      "source": [
        "14 * 9"
      ],
      "execution_count": 0,
      "outputs": [
        {
          "output_type": "execute_result",
          "data": {
            "text/plain": [
              "126"
            ]
          },
          "metadata": {
            "tags": []
          },
          "execution_count": 3
        }
      ]
    },
    {
      "cell_type": "code",
      "metadata": {
        "id": "W8GdB3CUGjon",
        "colab_type": "code",
        "outputId": "d221bf35-ecdf-4818-f5c7-1b801075d6aa",
        "colab": {}
      },
      "source": [
        "9 ** 0.5"
      ],
      "execution_count": 0,
      "outputs": [
        {
          "output_type": "execute_result",
          "data": {
            "text/plain": [
              "3.0"
            ]
          },
          "metadata": {
            "tags": []
          },
          "execution_count": 8
        }
      ]
    },
    {
      "cell_type": "code",
      "metadata": {
        "scrolled": true,
        "id": "9718LdlYGjor",
        "colab_type": "code",
        "outputId": "b85277c8-8253-45b3-9e51-530129168de0",
        "colab": {}
      },
      "source": [
        "import math\n",
        "n=1000000000000000000000000000000000000\n",
        "\n",
        "print(math.log(math.log(n, 2),2))\n",
        "print(math.sqrt(math.log(n, 4)))"
      ],
      "execution_count": 0,
      "outputs": [
        {
          "output_type": "stream",
          "text": [
            "6.901945847086932\n",
            "7.73270364801164\n"
          ],
          "name": "stdout"
        }
      ]
    },
    {
      "cell_type": "code",
      "metadata": {
        "id": "SJivAmRdGjov",
        "colab_type": "code",
        "colab": {}
      },
      "source": [
        "name = input ('Enter your name')\n",
        "print ('Hello', name)\n"
      ],
      "execution_count": 0,
      "outputs": []
    },
    {
      "cell_type": "code",
      "metadata": {
        "id": "UfUy5gaVGjox",
        "colab_type": "code",
        "colab": {}
      },
      "source": [
        "5 <= 7"
      ],
      "execution_count": 0,
      "outputs": []
    },
    {
      "cell_type": "code",
      "metadata": {
        "id": "uoRGZEfkGjo0",
        "colab_type": "code",
        "colab": {}
      },
      "source": [
        "X = int(input())\n",
        "H = int(input())\n",
        "M = int(input())\n",
        "H = H * 60\n",
        "X = (X + H + M)\n",
        "print (X // 60)\n",
        "print (X % 60)"
      ],
      "execution_count": 0,
      "outputs": []
    },
    {
      "cell_type": "code",
      "metadata": {
        "id": "tDMTOcsdGjpG",
        "colab_type": "code",
        "colab": {}
      },
      "source": [
        "X = int(input())\n",
        "H = int(input())\n",
        "M = int(input())\n",
        "print (X // 60)\n",
        "print (M + X % 60)"
      ],
      "execution_count": 0,
      "outputs": []
    },
    {
      "cell_type": "code",
      "metadata": {
        "id": "wtzl4SNyGjpK",
        "colab_type": "code",
        "colab": {}
      },
      "source": [
        "5 <= 7\n"
      ],
      "execution_count": 0,
      "outputs": []
    },
    {
      "cell_type": "code",
      "metadata": {
        "id": "8bnrYtrHGjpN",
        "colab_type": "code",
        "colab": {}
      },
      "source": [
        "X = int(input())\n",
        "H = int(input())\n",
        "M = int(input())\n",
        "print (X // 60)\n",
        "print (M + X % 60)"
      ],
      "execution_count": 0,
      "outputs": []
    },
    {
      "cell_type": "code",
      "metadata": {
        "id": "P5_5yjEYGjpQ",
        "colab_type": "code",
        "outputId": "863fbbb0-242d-468f-8ede-d88dde07ae0b",
        "colab": {}
      },
      "source": [
        "def gsd(a, b):\n",
        "    if a == 0:\n",
        "        return b\n",
        "    if b == 0:\n",
        "        return a\n",
        "    if a >= b:\n",
        "        return (a % b, b)\n",
        "    if a <= b:\n",
        "        return (a, b % a)\n",
        "    \n",
        "    \n",
        "    \n",
        "def main():\n",
        "    a, b = map(int, input().split())\n",
        "    print(gcd(a, b))\n",
        "\n",
        "\n",
        "if __name__ == \"__main__\":\n",
        "    main()"
      ],
      "execution_count": 0,
      "outputs": [
        {
          "output_type": "stream",
          "text": [
            "145,15\n"
          ],
          "name": "stdout"
        },
        {
          "output_type": "error",
          "ename": "ValueError",
          "evalue": "invalid literal for int() with base 10: '145,15'",
          "traceback": [
            "\u001b[0;31m---------------------------------------------------------------------------\u001b[0m",
            "\u001b[0;31mValueError\u001b[0m                                Traceback (most recent call last)",
            "\u001b[0;32m<ipython-input-10-adae9cd8f16f>\u001b[0m in \u001b[0;36m<module>\u001b[0;34m()\u001b[0m\n\u001b[1;32m     17\u001b[0m \u001b[0;34m\u001b[0m\u001b[0m\n\u001b[1;32m     18\u001b[0m \u001b[0;32mif\u001b[0m \u001b[0m__name__\u001b[0m \u001b[0;34m==\u001b[0m \u001b[0;34m\"__main__\"\u001b[0m\u001b[0;34m:\u001b[0m\u001b[0;34m\u001b[0m\u001b[0m\n\u001b[0;32m---> 19\u001b[0;31m     \u001b[0mmain\u001b[0m\u001b[0;34m(\u001b[0m\u001b[0;34m)\u001b[0m\u001b[0;34m\u001b[0m\u001b[0m\n\u001b[0m",
            "\u001b[0;32m<ipython-input-10-adae9cd8f16f>\u001b[0m in \u001b[0;36mmain\u001b[0;34m()\u001b[0m\n\u001b[1;32m     12\u001b[0m \u001b[0;34m\u001b[0m\u001b[0m\n\u001b[1;32m     13\u001b[0m \u001b[0;32mdef\u001b[0m \u001b[0mmain\u001b[0m\u001b[0;34m(\u001b[0m\u001b[0;34m)\u001b[0m\u001b[0;34m:\u001b[0m\u001b[0;34m\u001b[0m\u001b[0m\n\u001b[0;32m---> 14\u001b[0;31m     \u001b[0ma\u001b[0m\u001b[0;34m,\u001b[0m \u001b[0mb\u001b[0m \u001b[0;34m=\u001b[0m \u001b[0mmap\u001b[0m\u001b[0;34m(\u001b[0m\u001b[0mint\u001b[0m\u001b[0;34m,\u001b[0m \u001b[0minput\u001b[0m\u001b[0;34m(\u001b[0m\u001b[0;34m)\u001b[0m\u001b[0;34m.\u001b[0m\u001b[0msplit\u001b[0m\u001b[0;34m(\u001b[0m\u001b[0;34m)\u001b[0m\u001b[0;34m)\u001b[0m\u001b[0;34m\u001b[0m\u001b[0m\n\u001b[0m\u001b[1;32m     15\u001b[0m     \u001b[0mprint\u001b[0m\u001b[0;34m(\u001b[0m\u001b[0mgcd\u001b[0m\u001b[0;34m(\u001b[0m\u001b[0ma\u001b[0m\u001b[0;34m,\u001b[0m \u001b[0mb\u001b[0m\u001b[0;34m)\u001b[0m\u001b[0;34m)\u001b[0m\u001b[0;34m\u001b[0m\u001b[0m\n\u001b[1;32m     16\u001b[0m \u001b[0;34m\u001b[0m\u001b[0m\n",
            "\u001b[0;31mValueError\u001b[0m: invalid literal for int() with base 10: '145,15'"
          ]
        }
      ]
    },
    {
      "cell_type": "code",
      "metadata": {
        "id": "JDGIU9FMGjpT",
        "colab_type": "code",
        "outputId": "c9f67303-5e76-4d43-ae6c-700c12e6c7bd",
        "colab": {}
      },
      "source": [
        "3 + 5 * 4"
      ],
      "execution_count": 0,
      "outputs": [
        {
          "output_type": "execute_result",
          "data": {
            "text/plain": [
              "23"
            ]
          },
          "metadata": {
            "tags": []
          },
          "execution_count": 5
        }
      ]
    },
    {
      "cell_type": "code",
      "metadata": {
        "id": "H_orO2AIGjpW",
        "colab_type": "code",
        "outputId": "83691030-21b5-4bf4-b024-abccc230859c",
        "colab": {}
      },
      "source": [
        "def gcd(a, b):\n",
        "    if a == 0:\n",
        "        return b\n",
        "    if b == 0:\n",
        "        return a\n",
        "    if a >= b:\n",
        "        return gcd( a % b, b)\n",
        "    if a <= b:\n",
        "        return gcd( a, b % a)\n",
        "    \n",
        "\n",
        "\n",
        "\n",
        "def main():\n",
        "    a, b = map(int, input().split())\n",
        "    print(gcd(a, b))\n",
        "\n",
        "\n",
        "if __name__ == \"__main__\":\n",
        "    main()"
      ],
      "execution_count": 0,
      "outputs": [
        {
          "output_type": "stream",
          "text": [
            "18 35\n",
            "1\n"
          ],
          "name": "stdout"
        }
      ]
    },
    {
      "cell_type": "code",
      "metadata": {
        "id": "gMWLqoA9Gjpe",
        "colab_type": "code",
        "outputId": "3a8b4837-3169-4941-dcf1-ed3852f021af",
        "colab": {}
      },
      "source": [
        "( 3 + 5) * 4 "
      ],
      "execution_count": 0,
      "outputs": [
        {
          "output_type": "execute_result",
          "data": {
            "text/plain": [
              "32"
            ]
          },
          "metadata": {
            "tags": []
          },
          "execution_count": 6
        }
      ]
    },
    {
      "cell_type": "code",
      "metadata": {
        "id": "Q0ol7IshGjph",
        "colab_type": "code",
        "outputId": "51f11131-7c6d-4ae6-a1b9-f6f9f17dc9b9",
        "colab": {}
      },
      "source": [
        "def dispStatus(name,age=25):\n",
        "print('Name is :' ,name)\n",
        "print('Age is :' ,age)\n",
        "dispStatus('John')\n",
        "dispStatus('Doe')"
      ],
      "execution_count": 0,
      "outputs": [
        {
          "output_type": "error",
          "ename": "IndentationError",
          "evalue": "expected an indented block (<ipython-input-33-a4d98494d1c1>, line 2)",
          "traceback": [
            "\u001b[0;36m  File \u001b[0;32m\"<ipython-input-33-a4d98494d1c1>\"\u001b[0;36m, line \u001b[0;32m2\u001b[0m\n\u001b[0;31m    print('Name is :' ,name)\u001b[0m\n\u001b[0m        ^\u001b[0m\n\u001b[0;31mIndentationError\u001b[0m\u001b[0;31m:\u001b[0m expected an indented block\n"
          ]
        }
      ]
    },
    {
      "cell_type": "code",
      "metadata": {
        "id": "JdLvBfq5Gjpk",
        "colab_type": "code",
        "outputId": "891d5be1-f9c4-4837-c807-69da81b27435",
        "colab": {}
      },
      "source": [
        "11111 * 1111111"
      ],
      "execution_count": 0,
      "outputs": [
        {
          "output_type": "execute_result",
          "data": {
            "text/plain": [
              "12345554321"
            ]
          },
          "metadata": {
            "tags": []
          },
          "execution_count": 7
        }
      ]
    },
    {
      "cell_type": "code",
      "metadata": {
        "id": "MeQFw0yAGjpn",
        "colab_type": "code",
        "outputId": "662f13bf-733b-4d56-9f2d-432e32c0fce8",
        "colab": {}
      },
      "source": [
        "40 // 8"
      ],
      "execution_count": 0,
      "outputs": [
        {
          "output_type": "execute_result",
          "data": {
            "text/plain": [
              "5"
            ]
          },
          "metadata": {
            "tags": []
          },
          "execution_count": 8
        }
      ]
    },
    {
      "cell_type": "code",
      "metadata": {
        "id": "uaVGmCpjGjpq",
        "colab_type": "code",
        "outputId": "92cecf30-f3e8-4ce4-da10-59efbae65361",
        "colab": {}
      },
      "source": [
        "fruits = {'apple': 'green', 'banana': 'yellow'}\n",
        "fruits['apple'] = 'black'\n",
        "print('apple', 'banana')"
      ],
      "execution_count": 0,
      "outputs": [
        {
          "output_type": "stream",
          "text": [
            "apple banana\n"
          ],
          "name": "stdout"
        }
      ]
    },
    {
      "cell_type": "code",
      "metadata": {
        "id": "N9wBHBTZGjpt",
        "colab_type": "code",
        "outputId": "b143371e-4b7c-4dc7-c7bc-64c3f98861ef",
        "colab": {}
      },
      "source": [
        "42 // 8"
      ],
      "execution_count": 0,
      "outputs": [
        {
          "output_type": "execute_result",
          "data": {
            "text/plain": [
              "5"
            ]
          },
          "metadata": {
            "tags": []
          },
          "execution_count": 9
        }
      ]
    },
    {
      "cell_type": "code",
      "metadata": {
        "id": "A2xOQPbHGjpv",
        "colab_type": "code",
        "outputId": "29a7817d-66cf-47d2-824a-a68e1a4194a5",
        "colab": {}
      },
      "source": [
        "def fib(n, m):\n",
        "    # put your code here\n",
        "    fib_dict = {0:0, 1:1}\n",
        "    if n in fib_dict:\n",
        "        return fib_dict[n]\n",
        "    else:\n",
        "        for i in range(2, n+1):\n",
        "            fib_dict[i] = (fib_dict[i - 1] + fib_dict[i - 2]) % m\n",
        "        return fib_dict[n]\n",
        " \n",
        "def get_period(m):\n",
        "    f_2 = 0 # F_(n - 2) = F_0\n",
        "    f_1 = 1 # F_(n - 1) = F_1\n",
        "    f_0 = 1 # F_(n - 0) = F_2\n",
        "   \n",
        "    n= 2\n",
        "    while not((f_0 == 1) and (f_1 == 0)):\n",
        "        n += 1 # n = n + 1\n",
        "        f_2 = f_1\n",
        "        f_1 = f_0\n",
        "        f_0 = (f_2 + f_1) % m\n",
        "    T = n - 1\n",
        "   \n",
        "    return T\n",
        " \n",
        "def fib_mod(n, m):\n",
        "    return fib(n % get_period(m), m)\n",
        "\n",
        "def main():\n",
        "    n, m = map(int, input().split())\n",
        "    print(fib_mod(n, m))\n",
        "\n",
        "\n",
        "if __name__ == \"__main__\":\n",
        "    main()"
      ],
      "execution_count": 0,
      "outputs": [
        {
          "output_type": "stream",
          "text": [
            "7\n"
          ],
          "name": "stdout"
        },
        {
          "output_type": "error",
          "ename": "ValueError",
          "evalue": "not enough values to unpack (expected 2, got 1)",
          "traceback": [
            "\u001b[0;31m---------------------------------------------------------------------------\u001b[0m",
            "\u001b[0;31mValueError\u001b[0m                                Traceback (most recent call last)",
            "\u001b[0;32m<ipython-input-34-65829e587e13>\u001b[0m in \u001b[0;36m<module>\u001b[0;34m()\u001b[0m\n\u001b[1;32m     33\u001b[0m \u001b[0;34m\u001b[0m\u001b[0m\n\u001b[1;32m     34\u001b[0m \u001b[0;32mif\u001b[0m \u001b[0m__name__\u001b[0m \u001b[0;34m==\u001b[0m \u001b[0;34m\"__main__\"\u001b[0m\u001b[0;34m:\u001b[0m\u001b[0;34m\u001b[0m\u001b[0m\n\u001b[0;32m---> 35\u001b[0;31m     \u001b[0mmain\u001b[0m\u001b[0;34m(\u001b[0m\u001b[0;34m)\u001b[0m\u001b[0;34m\u001b[0m\u001b[0m\n\u001b[0m",
            "\u001b[0;32m<ipython-input-34-65829e587e13>\u001b[0m in \u001b[0;36mmain\u001b[0;34m()\u001b[0m\n\u001b[1;32m     28\u001b[0m \u001b[0;34m\u001b[0m\u001b[0m\n\u001b[1;32m     29\u001b[0m \u001b[0;32mdef\u001b[0m \u001b[0mmain\u001b[0m\u001b[0;34m(\u001b[0m\u001b[0;34m)\u001b[0m\u001b[0;34m:\u001b[0m\u001b[0;34m\u001b[0m\u001b[0m\n\u001b[0;32m---> 30\u001b[0;31m     \u001b[0mn\u001b[0m\u001b[0;34m,\u001b[0m \u001b[0mm\u001b[0m \u001b[0;34m=\u001b[0m \u001b[0mmap\u001b[0m\u001b[0;34m(\u001b[0m\u001b[0mint\u001b[0m\u001b[0;34m,\u001b[0m \u001b[0minput\u001b[0m\u001b[0;34m(\u001b[0m\u001b[0;34m)\u001b[0m\u001b[0;34m.\u001b[0m\u001b[0msplit\u001b[0m\u001b[0;34m(\u001b[0m\u001b[0;34m)\u001b[0m\u001b[0;34m)\u001b[0m\u001b[0;34m\u001b[0m\u001b[0m\n\u001b[0m\u001b[1;32m     31\u001b[0m     \u001b[0mprint\u001b[0m\u001b[0;34m(\u001b[0m\u001b[0mfib_mod\u001b[0m\u001b[0;34m(\u001b[0m\u001b[0mn\u001b[0m\u001b[0;34m,\u001b[0m \u001b[0mm\u001b[0m\u001b[0;34m)\u001b[0m\u001b[0;34m)\u001b[0m\u001b[0;34m\u001b[0m\u001b[0m\n\u001b[1;32m     32\u001b[0m \u001b[0;34m\u001b[0m\u001b[0m\n",
            "\u001b[0;31mValueError\u001b[0m: not enough values to unpack (expected 2, got 1)"
          ]
        }
      ]
    },
    {
      "cell_type": "code",
      "metadata": {
        "id": "joH3w0lZGjp5",
        "colab_type": "code",
        "outputId": "f83d377a-651f-4401-a489-6dcc2abf0b1d",
        "colab": {}
      },
      "source": [
        "42 % 8 "
      ],
      "execution_count": 0,
      "outputs": [
        {
          "output_type": "execute_result",
          "data": {
            "text/plain": [
              "2"
            ]
          },
          "metadata": {
            "tags": []
          },
          "execution_count": 10
        }
      ]
    },
    {
      "cell_type": "code",
      "metadata": {
        "id": "nbBwQgRIGzRM",
        "colab_type": "code",
        "outputId": "986287c1-9968-4135-936b-cd3c2a244e04",
        "colab": {
          "base_uri": "https://localhost:8080/",
          "height": 34
        }
      },
      "source": [
        "4/3"
      ],
      "execution_count": 0,
      "outputs": [
        {
          "output_type": "execute_result",
          "data": {
            "text/plain": [
              "1.3333333333333333"
            ]
          },
          "metadata": {
            "tags": []
          },
          "execution_count": 2
        }
      ]
    },
    {
      "cell_type": "code",
      "metadata": {
        "id": "Jx02aZkmGjp8",
        "colab_type": "code",
        "outputId": "16147523-192d-4349-a861-1e6f49222233",
        "colab": {}
      },
      "source": [
        "while m%0 and m%1"
      ],
      "execution_count": 0,
      "outputs": [
        {
          "output_type": "error",
          "ename": "SyntaxError",
          "evalue": "invalid syntax (<ipython-input-2-8347f941f568>, line 1)",
          "traceback": [
            "\u001b[0;36m  File \u001b[0;32m\"<ipython-input-2-8347f941f568>\"\u001b[0;36m, line \u001b[0;32m1\u001b[0m\n\u001b[0;31m    while m%0 and m%1\u001b[0m\n\u001b[0m                     ^\u001b[0m\n\u001b[0;31mSyntaxError\u001b[0m\u001b[0;31m:\u001b[0m invalid syntax\n"
          ]
        }
      ]
    },
    {
      "cell_type": "code",
      "metadata": {
        "id": "FSwBoCAqIFJ0",
        "colab_type": "code",
        "colab": {}
      },
      "source": [
        ""
      ],
      "execution_count": 0,
      "outputs": []
    },
    {
      "cell_type": "code",
      "metadata": {
        "id": "ZPEPKLeRIFgS",
        "colab_type": "code",
        "colab": {}
      },
      "source": [
        ""
      ],
      "execution_count": 0,
      "outputs": []
    },
    {
      "cell_type": "code",
      "metadata": {
        "id": "hVwW4xv9GjqA",
        "colab_type": "code",
        "outputId": "73168f43-daad-47b0-a7d4-b97b08fce521",
        "colab": {}
      },
      "source": [
        "4 + 2 * (-2)"
      ],
      "execution_count": 0,
      "outputs": [
        {
          "output_type": "execute_result",
          "data": {
            "text/plain": [
              "0"
            ]
          },
          "metadata": {
            "tags": []
          },
          "execution_count": 11
        }
      ]
    },
    {
      "cell_type": "code",
      "metadata": {
        "id": "Eihx68HzGjqD",
        "colab_type": "code",
        "outputId": "ebbb65f3-f5fb-4ac8-d80d-41f23714a1f5",
        "colab": {}
      },
      "source": [
        "str_numbers = input().split()"
      ],
      "execution_count": 0,
      "outputs": [
        {
          "output_type": "stream",
          "text": [
            "5 7 2 6\n"
          ],
          "name": "stdout"
        }
      ]
    },
    {
      "cell_type": "code",
      "metadata": {
        "id": "hGH-zbBNGjqH",
        "colab_type": "code",
        "outputId": "479a2fe6-d946-4b61-dac7-4c4ee2b6375e",
        "colab": {}
      },
      "source": [
        "42 / 0"
      ],
      "execution_count": 0,
      "outputs": [
        {
          "output_type": "error",
          "ename": "ZeroDivisionError",
          "evalue": "division by zero",
          "traceback": [
            "\u001b[0;31m---------------------------------------------------------------------------\u001b[0m",
            "\u001b[0;31mZeroDivisionError\u001b[0m                         Traceback (most recent call last)",
            "\u001b[0;32m<ipython-input-12-b75601cc3487>\u001b[0m in \u001b[0;36m<module>\u001b[0;34m()\u001b[0m\n\u001b[0;32m----> 1\u001b[0;31m \u001b[0;36m42\u001b[0m \u001b[0;34m/\u001b[0m \u001b[0;36m0\u001b[0m\u001b[0;34m\u001b[0m\u001b[0m\n\u001b[0m",
            "\u001b[0;31mZeroDivisionError\u001b[0m: division by zero"
          ]
        }
      ]
    },
    {
      "cell_type": "code",
      "metadata": {
        "id": "H_Dw_5M0GjqK",
        "colab_type": "code",
        "outputId": "43daa1a0-a624-445b-ad5a-9501105a32ad",
        "colab": {}
      },
      "source": [
        "279 / 10"
      ],
      "execution_count": 0,
      "outputs": [
        {
          "output_type": "execute_result",
          "data": {
            "text/plain": [
              "27.9"
            ]
          },
          "metadata": {
            "tags": []
          },
          "execution_count": 13
        }
      ]
    },
    {
      "cell_type": "code",
      "metadata": {
        "id": "D8dSJv35GjqN",
        "colab_type": "code",
        "outputId": "d914c1cb-04d9-4af8-8135-a65731757284",
        "colab": {}
      },
      "source": [
        "279 % 10"
      ],
      "execution_count": 0,
      "outputs": [
        {
          "output_type": "execute_result",
          "data": {
            "text/plain": [
              "9"
            ]
          },
          "metadata": {
            "tags": []
          },
          "execution_count": 15
        }
      ]
    },
    {
      "cell_type": "code",
      "metadata": {
        "id": "1nDX_pl-GjqR",
        "colab_type": "code",
        "outputId": "fd885b5f-0150-4721-9682-668a3800706d",
        "colab": {}
      },
      "source": [
        " a = 1; b = 3; print(a, b)"
      ],
      "execution_count": 0,
      "outputs": [
        {
          "output_type": "stream",
          "text": [
            "1 3\n"
          ],
          "name": "stdout"
        }
      ]
    },
    {
      "cell_type": "code",
      "metadata": {
        "id": "SIWpyjDrGjqU",
        "colab_type": "code",
        "outputId": "87bc40f8-e413-484a-d2df-8e4ea73ba7d5",
        "colab": {}
      },
      "source": [
        "279 // 10"
      ],
      "execution_count": 0,
      "outputs": [
        {
          "output_type": "execute_result",
          "data": {
            "text/plain": [
              "27"
            ]
          },
          "metadata": {
            "tags": []
          },
          "execution_count": 16
        }
      ]
    },
    {
      "cell_type": "code",
      "metadata": {
        "id": "mu0rl2q-GjqY",
        "colab_type": "code",
        "colab": {}
      },
      "source": [
        "a,b = int(str_numbers[0]), int(str_numbers[1])"
      ],
      "execution_count": 0,
      "outputs": []
    },
    {
      "cell_type": "code",
      "metadata": {
        "id": "ANTHb_SoGjqb",
        "colab_type": "code",
        "outputId": "17c260bb-add7-4021-fe00-3721aec8155e",
        "colab": {}
      },
      "source": [
        "2014 ** 14"
      ],
      "execution_count": 0,
      "outputs": [
        {
          "output_type": "execute_result",
          "data": {
            "text/plain": [
              "18064773765607550801425251468864907833685590016"
            ]
          },
          "metadata": {
            "tags": []
          },
          "execution_count": 17
        }
      ]
    },
    {
      "cell_type": "code",
      "metadata": {
        "id": "XC11uI0sGjqe",
        "colab_type": "code",
        "colab": {}
      },
      "source": [
        "n1, n2 = str_numbers"
      ],
      "execution_count": 0,
      "outputs": []
    },
    {
      "cell_type": "code",
      "metadata": {
        "id": "rdQKUsnmGjqh",
        "colab_type": "code",
        "colab": {}
      },
      "source": [
        "def myfunc(x):\n",
        "    def newfanc(y):\n",
        "        return x + n\n",
        "    return myfunc"
      ],
      "execution_count": 0,
      "outputs": []
    },
    {
      "cell_type": "code",
      "metadata": {
        "id": "fwsHUxnnGjqj",
        "colab_type": "code",
        "outputId": "6049651d-a44c-4427-ed6a-f3ee8eff9be5",
        "colab": {}
      },
      "source": [
        "for i in str_numbers:\n",
        "    print('current number:', int(i)+1)"
      ],
      "execution_count": 0,
      "outputs": [
        {
          "output_type": "stream",
          "text": [
            "current number: 6\n",
            "current number: 8\n",
            "current number: 3\n",
            "current number: 7\n"
          ],
          "name": "stdout"
        }
      ]
    },
    {
      "cell_type": "code",
      "metadata": {
        "id": "L0OEfR-BGjql",
        "colab_type": "code",
        "outputId": "b2a06add-e3ff-49af-89d5-842f2291b521",
        "colab": {}
      },
      "source": [
        "[int(i)+1 for i in str_numbers]"
      ],
      "execution_count": 0,
      "outputs": [
        {
          "output_type": "execute_result",
          "data": {
            "text/plain": [
              "[6, 8, 3, 7]"
            ]
          },
          "metadata": {
            "tags": []
          },
          "execution_count": 32
        }
      ]
    },
    {
      "cell_type": "code",
      "metadata": {
        "id": "hQtT-BnTGjqn",
        "colab_type": "code",
        "colab": {}
      },
      "source": [
        "def f(i):\n",
        "    return int(i)+1"
      ],
      "execution_count": 0,
      "outputs": []
    },
    {
      "cell_type": "code",
      "metadata": {
        "id": "CDs66FQCGjqq",
        "colab_type": "code",
        "outputId": "9d267899-ba0e-4a36-adbe-b50988a1b6e0",
        "colab": {}
      },
      "source": [
        "[f(i) for i in str_numbers]"
      ],
      "execution_count": 0,
      "outputs": [
        {
          "output_type": "execute_result",
          "data": {
            "text/plain": [
              "[6, 8, 3, 7]"
            ]
          },
          "metadata": {
            "tags": []
          },
          "execution_count": 35
        }
      ]
    },
    {
      "cell_type": "code",
      "metadata": {
        "id": "szKBHLxHGjqt",
        "colab_type": "code",
        "outputId": "d97a7116-0794-4cc8-dbf4-bf5f084cafe7",
        "colab": {}
      },
      "source": [
        "list(map(f, str_numbers))"
      ],
      "execution_count": 0,
      "outputs": [
        {
          "output_type": "execute_result",
          "data": {
            "text/plain": [
              "[6, 8, 3, 7]"
            ]
          },
          "metadata": {
            "tags": []
          },
          "execution_count": 37
        }
      ]
    },
    {
      "cell_type": "code",
      "metadata": {
        "id": "eF888VOeGjqv",
        "colab_type": "code",
        "colab": {}
      },
      "source": [
        "a,b,c,d = map(f, str_numbers)"
      ],
      "execution_count": 0,
      "outputs": []
    },
    {
      "cell_type": "code",
      "metadata": {
        "id": "4aqq5xoYGjqx",
        "colab_type": "code",
        "colab": {}
      },
      "source": [
        "a,b,c,d = map(int, str_numbers)"
      ],
      "execution_count": 0,
      "outputs": []
    },
    {
      "cell_type": "code",
      "metadata": {
        "id": "4O3ccEOJGjqy",
        "colab_type": "code",
        "outputId": "3a5145e9-8f6f-481b-8df6-3a622978703e",
        "colab": {}
      },
      "source": [
        "a,b,c,d"
      ],
      "execution_count": 0,
      "outputs": [
        {
          "output_type": "execute_result",
          "data": {
            "text/plain": [
              "(5, 7, 2, 6)"
            ]
          },
          "metadata": {
            "tags": []
          },
          "execution_count": 41
        }
      ]
    },
    {
      "cell_type": "code",
      "metadata": {
        "id": "RTzj8LCmGjq0",
        "colab_type": "code",
        "colab": {}
      },
      "source": [
        "a,b,c,d = map(lambda i:int(i)+1, str_numbers)"
      ],
      "execution_count": 0,
      "outputs": []
    },
    {
      "cell_type": "code",
      "metadata": {
        "id": "wKiRVU6wGjq3",
        "colab_type": "code",
        "outputId": "42c38cf6-901c-417f-f3d5-3adfd9d05a4b",
        "colab": {}
      },
      "source": [
        "a,b,c,d"
      ],
      "execution_count": 0,
      "outputs": [
        {
          "output_type": "execute_result",
          "data": {
            "text/plain": [
              "(6, 8, 3, 7)"
            ]
          },
          "metadata": {
            "tags": []
          },
          "execution_count": 43
        }
      ]
    },
    {
      "cell_type": "code",
      "metadata": {
        "id": "NlOYIwgjGjq7",
        "colab_type": "code",
        "colab": {}
      },
      "source": [
        "a,b,c,d = map(lambda i:int(i)+1, str_numbers\n"
      ],
      "execution_count": 0,
      "outputs": []
    }
  ]
}