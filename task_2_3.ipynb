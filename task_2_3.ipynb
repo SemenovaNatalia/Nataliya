{
  "nbformat": 4,
  "nbformat_minor": 0,
  "metadata": {
    "colab": {
      "name": "task_2.3.ipynb",
      "provenance": [],
      "include_colab_link": true
    },
    "kernelspec": {
      "name": "python3",
      "display_name": "Python 3"
    }
  },
  "cells": [
    {
      "cell_type": "markdown",
      "metadata": {
        "id": "view-in-github",
        "colab_type": "text"
      },
      "source": [
        "<a href=\"https://colab.research.google.com/github/SemenovaNatalia/PythonIntro/blob/master/task_2_3.ipynb\" target=\"_parent\"><img src=\"https://colab.research.google.com/assets/colab-badge.svg\" alt=\"Open In Colab\"/></a>"
      ]
    },
    {
      "cell_type": "code",
      "metadata": {
        "id": "SsccE4T5JPQa",
        "colab_type": "code",
        "colab": {}
      },
      "source": [
        "#https://stepik.org/lesson/3366/step/3?unit=949"
      ],
      "execution_count": 0,
      "outputs": []
    },
    {
      "cell_type": "code",
      "metadata": {
        "id": "BN_FK3yJJvjP",
        "colab_type": "code",
        "colab": {
          "base_uri": "https://localhost:8080/",
          "height": 34
        },
        "outputId": "aa38b46c-e17f-496c-fe48-adc72e9746ee"
      },
      "source": [
        "# Я сделала так\n",
        "4/1"
      ],
      "execution_count": 5,
      "outputs": [
        {
          "output_type": "execute_result",
          "data": {
            "text/plain": [
              "4.0"
            ]
          },
          "metadata": {
            "tags": []
          },
          "execution_count": 5
        }
      ]
    },
    {
      "cell_type": "markdown",
      "metadata": {
        "id": "tzAGkNeRKB4l",
        "colab_type": "text"
      },
      "source": [
        ""
      ]
    },
    {
      "cell_type": "code",
      "metadata": {
        "id": "Owmeyx7BJ1yn",
        "colab_type": "code",
        "colab": {}
      },
      "source": [
        "# ! я сделала что то по другому"
      ],
      "execution_count": 0,
      "outputs": []
    }
  ]
}