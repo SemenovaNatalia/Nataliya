{
  "nbformat": 4,
  "nbformat_minor": 0,
  "metadata": {
    "colab": {
      "name": " Cycle for.ipynb",
      "provenance": [],
      "include_colab_link": true
    },
    "kernelspec": {
      "name": "python3",
      "display_name": "Python 3"
    }
  },
  "cells": [
    {
      "cell_type": "markdown",
      "metadata": {
        "id": "view-in-github",
        "colab_type": "text"
      },
      "source": [
        "<a href=\"https://colab.research.google.com/github/SemenovaNatalia/PythonIntro/blob/master/Cycle_for.ipynb\" target=\"_parent\"><img src=\"https://colab.research.google.com/assets/colab-badge.svg\" alt=\"Open In Colab\"/></a>"
      ]
    },
    {
      "cell_type": "code",
      "metadata": {
        "id": "CWQueQvruVKF",
        "colab_type": "code",
        "colab": {
          "base_uri": "https://localhost:8080/",
          "height": 71
        },
        "outputId": "88e17c0e-958e-4a86-c652-a66dbd3c0e8a"
      },
      "source": [
        "n = int(input())\n",
        "for j in range(n):\n",
        "  for i in range(n):\n",
        "    print('\\t', '7', end='')\n",
        "  print(end='')"
      ],
      "execution_count": 16,
      "outputs": [
        {
          "output_type": "stream",
          "text": [
            "7\n",
            "\t 7\t 7\t 7\t 7\t 7\t 7\t 7\t 7\t 7\t 7\t 7\t 7\t 7\t 7\t 7\t 7\t 7\t 7\t 7\t 7\t 7\t 7\t 7\t 7\t 7\t 7\t 7\t 7\t 7\t 7\t 7\t 7\t 7\t 7\t 7\t 7\t 7\t 7\t 7\t 7\t 7\t 7\t 7\t 7\t 7\t 7\t 7\t 7\t 7"
          ],
          "name": "stdout"
        }
      ]
    },
    {
      "cell_type": "code",
      "metadata": {
        "id": "BDq57yZd4S8N",
        "colab_type": "code",
        "colab": {}
      },
      "source": [
        "a = int(input())\n",
        "b = int(input())\n",
        "c = int(input())\n",
        "d = int(input())\n",
        "for i in range(a, b + 1):\n",
        "  for j in range(c, d + 1):\n",
        "    print()\n"
      ],
      "execution_count": 0,
      "outputs": []
    }
  ]
}